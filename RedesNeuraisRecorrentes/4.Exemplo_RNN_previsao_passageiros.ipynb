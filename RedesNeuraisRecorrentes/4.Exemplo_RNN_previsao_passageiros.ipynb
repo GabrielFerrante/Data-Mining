{
  "nbformat": 4,
  "nbformat_minor": 0,
  "metadata": {
    "colab": {
      "provenance": []
    },
    "kernelspec": {
      "name": "python3",
      "display_name": "Python 3"
    },
    "language_info": {
      "name": "python"
    }
  },
  "cells": [
    {
      "cell_type": "markdown",
      "metadata": {
        "id": "uSq1bFOi-Hy7"
      },
      "source": [
        "## **Exemplo de Uso de LSTM**\n",
        "\n",
        "### **REDES NEURAIS RECORRENTES**\n",
        "\n",
        "### Profa. Roseli Ap. Francelin Romero\n",
        "\n",
        "**PROBLEMA**: SERIE TEMPORAL - Previsão de passageiros de uma Cia Aérea Internacional.\n",
        "\n",
        "Este é um problema em que, dados um ano e um mês, a tarefa é prever o número de passageiros (x 1.000) de companhias aéreas internacionais. Os dados variam de janeiro de 1949 a dezembro de 1960,  12 anos, com 144 observações."
      ]
    },
    {
      "cell_type": "markdown",
      "metadata": {
        "id": "9vnARAijFASq"
      },
      "source": [
        "\n",
        "\n",
        "\n",
        "\n",
        "Por default o Keras mantem um estado com um batch (stateful=True). Um batch é um no. de linhas do conjunto de dados usado para o treinamento. Entre uma camada e outra na LTSM o estado é desconsiderado (limpado) por default. Isto nos dá um controle mais fino entre os estados e podemos usar a função resetstates(). <\\br>\n",
        "\n",
        "**LSTM PARA REGRESSÃO** A cam. LSTM espera uma matriz como entrada: [samples, time steps, features], onde?\n",
        "\n",
        "**Samples**: são as observações do dominio da aplicação, normalmente as linhas do dataset.</br> \n",
        "**Time steps**: são passos de tempo de separação de uma dada variavel para uma dada observação.</br>\n",
        "**Features**: são medidas separadas observadas em cada tempo da observação.\n",
        "\n",
        "Nesta série, os seguintes passos serão considerados:\n",
        "\n",
        "- Carregar o dataset do CSV file.\n",
        "- Transformar o dataset de modo a adequa-lo para o modelo LSTM, incluindo: \n",
        "- 1 - Transformar os dados para um problema de aprendizado supervisionado. \n",
        "- 2 - Transformar os dados para ser \"stationary\". \n",
        "- 3 - Transformar os dados para que fiquem no interv. [-1,1]. \n",
        "- 4 - Ajusta o modelo da rede LSTM para o conj. de treinamento. \n",
        "- 5 - Avaliar o modelo LSTM estático no conjunto de teste. \n",
        "- 6 - Visualizar o desempenho da Previsão. "
      ]
    },
    {
      "cell_type": "code",
      "metadata": {
        "id": "sJckLNezjKIj"
      },
      "source": [
        "\n",
        "# LSTM for international airline passengers problem with regression framing\n",
        "import numpy as np\n",
        "import matplotlib.pyplot as plt\n",
        "import pandas as pd\n",
        "from pandas import read_csv\n",
        "import math\n",
        "import tensorflow as tf\n",
        "from tensorflow import keras\n",
        "from keras.models import Sequential\n",
        "from keras.layers import Dense\n",
        "from keras.layers import LSTM\n",
        "from sklearn.preprocessing import MinMaxScaler\n",
        "from sklearn.metrics import mean_squared_error\n",
        "\n",
        "# converte um array de valores numa matriz de dados \n",
        "def create_dataset(dataset, look_back=1):\n",
        "\tdataX, dataY = [], []\n",
        "\tfor i in range(len(dataset)-look_back-1):        \n",
        "\t\ta = dataset[i:(i+look_back), 0]\n",
        "\t\tdataX.append(a)\n",
        "\t\tdataY.append(dataset[i + look_back, 0])\n",
        "\treturn np.array(dataX), np.array(dataY)\n",
        "\n",
        "# as sementes ajudam a ter resultados reproduzíveis\n",
        "from numpy.random import seed\n",
        "seed(1)\n",
        "from tensorflow.random import set_seed\n",
        "set_seed(2)\n",
        "# Carregar o dataset\n",
        "dataframe = read_csv('https://raw.githubusercontent.com/jbrownlee/Datasets/master/airline-passengers.csv', usecols=[1], engine='python')\n",
        "dataset = dataframe.values\n",
        "dataset = dataset.astype('float32')\n"
      ],
      "execution_count": 16,
      "outputs": []
    },
    {
      "cell_type": "code",
      "metadata": {
        "id": "dtwLIpiFDU-t"
      },
      "source": [
        "# normalizar o dataset\n",
        "scaler = MinMaxScaler(feature_range=(0, 1))\n",
        "dataset = scaler.fit_transform(dataset)"
      ],
      "execution_count": 17,
      "outputs": []
    },
    {
      "cell_type": "code",
      "metadata": {
        "id": "GOkjXAikDVW5"
      },
      "source": [
        "# dividir em conjuntos de train and test \n",
        "train_size = int(len(dataset) * 0.67)\n",
        "test_size = len(dataset) - train_size\n",
        "train, test = dataset[0:train_size,:], dataset[train_size:len(dataset),:]"
      ],
      "execution_count": 18,
      "outputs": []
    },
    {
      "cell_type": "code",
      "metadata": {
        "id": "REix9MlpDVcK",
        "colab": {
          "base_uri": "https://localhost:8080/"
        },
        "outputId": "c6a9d3f6-5e5e-4f06-a2be-6141329a2a8f"
      },
      "source": [
        "# reshape em X=t and Y=t+1\n",
        "look_back = 1\n",
        "trainX, trainY = create_dataset(train, look_back)\n",
        "testX, testY = create_dataset(test, look_back)\n",
        "\n",
        "print('X(t)', 'Y(t+1)')\n",
        "for i in range(len(trainX)):\n",
        "  print(trainX[i], trainY[i])\n",
        " "
      ],
      "execution_count": 19,
      "outputs": [
        {
          "output_type": "stream",
          "name": "stdout",
          "text": [
            "X(t) Y(t+1)\n",
            "[0.01544401] 0.027027026\n",
            "[0.02702703] 0.05405405\n",
            "[0.05405405] 0.04826255\n",
            "[0.04826255] 0.032818526\n",
            "[0.03281853] 0.059845567\n",
            "[0.05984557] 0.08494207\n",
            "[0.08494207] 0.08494207\n",
            "[0.08494207] 0.06177607\n",
            "[0.06177607] 0.02895753\n",
            "[0.02895753] 0.0\n",
            "[0.] 0.027027026\n",
            "[0.02702703] 0.021235526\n",
            "[0.02123553] 0.042471036\n",
            "[0.04247104] 0.07142857\n",
            "[0.07142857] 0.059845567\n",
            "[0.05984557] 0.040540546\n",
            "[0.04054055] 0.08687258\n",
            "[0.08687258] 0.12741312\n",
            "[0.12741312] 0.12741312\n",
            "[0.12741312] 0.10424709\n",
            "[0.10424709] 0.055984557\n",
            "[0.05598456] 0.01930502\n",
            "[0.01930502] 0.06949806\n",
            "[0.06949806] 0.07915059\n",
            "[0.07915059] 0.08880308\n",
            "[0.08880308] 0.14285713\n",
            "[0.14285713] 0.11389962\n",
            "[0.11389962] 0.13127413\n",
            "[0.13127413] 0.14285713\n",
            "[0.14285713] 0.18339768\n",
            "[0.18339768] 0.18339768\n",
            "[0.18339768] 0.15444016\n",
            "[0.15444016] 0.11196911\n",
            "[0.11196911] 0.08108109\n",
            "[0.08108109] 0.1196911\n",
            "[0.1196911] 0.12934363\n",
            "[0.12934363] 0.14671814\n",
            "[0.14671814] 0.17181468\n",
            "[0.17181468] 0.14864865\n",
            "[0.14864865] 0.15250966\n",
            "[0.15250966] 0.22007722\n",
            "[0.22007722] 0.24324325\n",
            "[0.24324325] 0.26640925\n",
            "[0.26640925] 0.2027027\n",
            "[0.2027027] 0.16795367\n",
            "[0.16795367] 0.13127413\n",
            "[0.13127413] 0.17374519\n",
            "[0.17374519] 0.17760617\n",
            "[0.17760617] 0.17760617\n",
            "[0.17760617] 0.25482625\n",
            "[0.25482625] 0.25289574\n",
            "[0.25289574] 0.24131274\n",
            "[0.24131274] 0.26833975\n",
            "[0.26833975] 0.3088803\n",
            "[0.3088803] 0.32432434\n",
            "[0.32432434] 0.25675675\n",
            "[0.25675675] 0.20656371\n",
            "[0.20656371] 0.14671814\n",
            "[0.14671814] 0.18725869\n",
            "[0.18725869] 0.19305018\n",
            "[0.19305018] 0.16216215\n",
            "[0.16216215] 0.25289574\n",
            "[0.25289574] 0.23745173\n",
            "[0.23745173] 0.25096524\n",
            "[0.25096524] 0.3088803\n",
            "[0.3088803] 0.38223937\n",
            "[0.38223937] 0.36486486\n",
            "[0.36486486] 0.2992278\n",
            "[0.2992278] 0.24131274\n",
            "[0.24131274] 0.1911197\n",
            "[0.1911197] 0.24131274\n",
            "[0.24131274] 0.26640925\n",
            "[0.26640925] 0.24903473\n",
            "[0.24903473] 0.31467178\n",
            "[0.31467178] 0.3185328\n",
            "[0.3185328] 0.32046333\n",
            "[0.32046333] 0.4073359\n",
            "[0.4073359] 0.5019305\n",
            "[0.5019305] 0.46911195\n",
            "[0.46911195] 0.40154442\n",
            "[0.40154442] 0.32818535\n",
            "[0.32818535] 0.25675675\n",
            "[0.25675675] 0.3359073\n",
            "[0.3359073] 0.34749034\n",
            "[0.34749034] 0.33397684\n",
            "[0.33397684] 0.41119692\n",
            "[0.41119692] 0.4034749\n",
            "[0.4034749] 0.4131274\n",
            "[0.4131274] 0.52123547\n",
            "[0.52123547] 0.5965251\n",
            "[0.5965251] 0.58108103\n",
            "[0.58108103] 0.484556\n",
            "[0.484556] 0.3899614\n",
            "[0.3899614] 0.3223938\n"
          ]
        }
      ]
    },
    {
      "cell_type": "code",
      "metadata": {
        "id": "UGnoLeYSDVi7"
      },
      "source": [
        "# reshape entrada na forma [samples, time steps, features]\n",
        "trainX = np.reshape(trainX, (trainX.shape[0], 1, trainX.shape[1]))\n",
        "testX = np.reshape(testX, (testX.shape[0], 1, testX.shape[1]))"
      ],
      "execution_count": 20,
      "outputs": []
    },
    {
      "cell_type": "code",
      "metadata": {
        "colab": {
          "base_uri": "https://localhost:8080/"
        },
        "id": "1-jh_lLHDVuh",
        "outputId": "098c1236-f2bb-48cd-f92a-0243fdef1c45"
      },
      "source": [
        "# criando and fit the LSTM network\n",
        "model = Sequential()\n",
        "model.add(LSTM(4, input_shape=(1, look_back)))\n",
        "model.add(Dense(1))\n",
        "model.compile(loss='mean_squared_error', optimizer='adam')\n",
        "model.fit(trainX, trainY, epochs=100, batch_size=1, verbose=0)\n",
        "model.summary()"
      ],
      "execution_count": 21,
      "outputs": [
        {
          "output_type": "stream",
          "name": "stdout",
          "text": [
            "Model: \"sequential_5\"\n",
            "_________________________________________________________________\n",
            " Layer (type)                Output Shape              Param #   \n",
            "=================================================================\n",
            " lstm_5 (LSTM)               (None, 4)                 96        \n",
            "                                                                 \n",
            " dense_5 (Dense)             (None, 1)                 5         \n",
            "                                                                 \n",
            "=================================================================\n",
            "Total params: 101\n",
            "Trainable params: 101\n",
            "Non-trainable params: 0\n",
            "_________________________________________________________________\n"
          ]
        }
      ]
    },
    {
      "cell_type": "code",
      "metadata": {
        "id": "A6Ti1nk8DV3J"
      },
      "source": [
        "# fazer as predicoes\n",
        "trainPredict = model.predict(trainX)\n",
        "testPredict = model.predict(testX)"
      ],
      "execution_count": 22,
      "outputs": []
    },
    {
      "cell_type": "code",
      "metadata": {
        "colab": {
          "base_uri": "https://localhost:8080/"
        },
        "id": "YjGZek_nDWAi",
        "outputId": "3675c720-4515-4bd6-d385-13c5c019f1a1"
      },
      "source": [
        "# inverter antes as predicoes\n",
        "trainPredict = scaler.inverse_transform(trainPredict)\n",
        "trainY = scaler.inverse_transform([trainY])\n",
        "testPredict = scaler.inverse_transform(testPredict)\n",
        "testY = scaler.inverse_transform([testY])\n",
        "# calcular o RMSE error root mean squared error\n",
        "trainScore = math.sqrt(mean_squared_error(trainY[0], trainPredict[:,0]))\n",
        "print('Train Score: %.2f RMSE' % (trainScore))\n",
        "testScore = math.sqrt(mean_squared_error(testY[0], testPredict[:,0]))\n",
        "print('Test Score: %.2f RMSE' % (testScore))"
      ],
      "execution_count": 23,
      "outputs": [
        {
          "output_type": "stream",
          "name": "stdout",
          "text": [
            "Train Score: 23.25 RMSE\n",
            "Test Score: 52.84 RMSE\n"
          ]
        }
      ]
    },
    {
      "cell_type": "code",
      "metadata": {
        "id": "srX5yGaEDWJc"
      },
      "source": [
        "# shift train predictions for plotting\n",
        "trainPredictPlot = np.empty_like(dataset)\n",
        "trainPredictPlot[:, :] = np.nan\n",
        "trainPredictPlot[look_back:len(trainPredict)+look_back, :] = trainPredict\n",
        "# shift test predictions for plotting\n",
        "testPredictPlot = np.empty_like(dataset)\n",
        "testPredictPlot[:, :] = np.nan\n",
        "testPredictPlot[len(trainPredict)+(look_back*2)+1:len(dataset)-1, :] = testPredict"
      ],
      "execution_count": 24,
      "outputs": []
    },
    {
      "cell_type": "markdown",
      "metadata": {
        "id": "-bftGbujZwtx"
      },
      "source": [
        "Vamos plotar o dataset original em azul, as predicoes para o conj. de treinamento em verde, e as predicoes dos dados de test em vermelho."
      ]
    },
    {
      "cell_type": "code",
      "metadata": {
        "colab": {
          "base_uri": "https://localhost:8080/",
          "height": 265
        },
        "id": "rDYx4PmjECSi",
        "outputId": "b5053b28-d2bd-438e-cff9-2214ed87e9db"
      },
      "source": [
        "# plot baseline and predictions\n",
        "plt.plot(scaler.inverse_transform(dataset), color=\"blue\")\n",
        "plt.plot(trainPredictPlot, color=\"green\")\n",
        "plt.plot(testPredictPlot, color=\"red\")\n",
        "plt.show()"
      ],
      "execution_count": 25,
      "outputs": [
        {
          "output_type": "display_data",
          "data": {
            "text/plain": [
              "<Figure size 432x288 with 1 Axes>"
            ],
            "image/png": "[encoded data removed]"
          },
          "metadata": {
            "needs_background": "light"
          }
        }
      ]
    },
    {
      "cell_type": "markdown",
      "metadata": {
        "id": "T2U1gEZJDWcW"
      },
      "source": [
        "Podemos ver que o modelo tem um erro médio de cerca de 23 passageiros (em milhares) no conjunto de dados de treinamento e cerca de 50 passageiros (em milhares) no conjunto de dados de teste. Não tão ruim."
      ]
    },
    {
      "cell_type": "markdown",
      "metadata": {
        "id": "XnZhT_sBLZ7D"
      },
      "source": [
        "####**LSTM for Regression Using the Window Method**"
      ]
    },
    {
      "cell_type": "markdown",
      "metadata": {
        "id": "rVEXR4dAL4Rp"
      },
      "source": [
        "Também podemos formular o problema de forma que várias timesteps recentes possam ser usadas para fazer a previsão para o próximo timestep.\n",
        "\n",
        "Isso é chamado de **janela**, e o tamanho da janela é um parâmetro que pode ser ajustado para cada problema.\n",
        "\n",
        "Por exemplo, dado o tempo atual (t) que queremos prever o valor no próximo tempo na sequência (t + 1), podemos usar o tempo atual (t), bem como os dois tempos anteriores (t-1 e t-2) como variáveis ​​de entrada.\n",
        "\n",
        "Quando formulado como um problema de regressão, as variáveis ​​de entrada são t-2, t-1, t e a variável de saída é t + 1.\n",
        "\n",
        "A função **create_dataset()** criada nos permite criar esta formulação aumentando a var. **look_back** de 1 para 3.\n",
        "\n",
        "Exemplo:</br>\n",
        "X1\tX2\tX3\tY </br>\n",
        "112\t118\t132\t129 </br>\n",
        "118\t132\t129\t121 </br>\n",
        "132\t129\t121\t135 </br>\n",
        "129\t121\t135\t148 </br>\n",
        "121\t135\t148\t148 </br>"
      ]
    },
    {
      "cell_type": "code",
      "metadata": {
        "id": "MxaJWpXuNgSl"
      },
      "source": [
        "# reshape em X=t and Y=t+1\n",
        "look_back = 3\n",
        "trainX, trainY = create_dataset(train, look_back)\n",
        "testX, testY = create_dataset(test, look_back)\n",
        "new_data=pd.DataFrame()\n",
        " "
      ],
      "execution_count": 26,
      "outputs": []
    },
    {
      "cell_type": "code",
      "metadata": {
        "colab": {
          "base_uri": "https://localhost:8080/",
          "height": 1000
        },
        "id": "g_1oQq5HOLzS",
        "outputId": "762cb217-7283-4a30-d2f3-ff3b7a3f33c5"
      },
      "source": [
        "# reshape as entradas na forma [samples, time steps, features]\n",
        "trainX = np.reshape(trainX, (trainX.shape[0], 1, trainX.shape[1]))\n",
        "testX = np.reshape(testX, (testX.shape[0], 1, testX.shape[1]))\n",
        "# cria e aplica a rede LSTM \n",
        "model = Sequential()\n",
        "model.add(LSTM(4, input_shape=(1, look_back)))\n",
        "model.add(Dense(1))\n",
        "model.compile(loss='mean_squared_error', optimizer='adam')\n",
        "model.fit(trainX, trainY, epochs=100, batch_size=1, verbose=2)\n",
        "# fazer as predicoes\n",
        "trainPredict = model.predict(trainX)\n",
        "testPredict = model.predict(testX)\n",
        "# inverter as predicoes\n",
        "trainPredict = scaler.inverse_transform(trainPredict)\n",
        "trainY = scaler.inverse_transform([trainY])\n",
        "testPredict = scaler.inverse_transform(testPredict)\n",
        "testY = scaler.inverse_transform([testY])\n",
        "# calcular o RMSE - root mean squared error\n",
        "trainScore = math.sqrt(mean_squared_error(trainY[0], trainPredict[:,0]))\n",
        "print('Train Score: %.2f RMSE' % (trainScore))\n",
        "testScore = math.sqrt(mean_squared_error(testY[0], testPredict[:,0]))\n",
        "print('Test Score: %.2f RMSE' % (testScore))\n",
        "# shift prediçoes de treinamento para fazer o plot\n",
        "trainPredictPlot = np.empty_like(dataset)\n",
        "trainPredictPlot[:, :] = np.nan\n",
        "trainPredictPlot[look_back:len(trainPredict)+look_back, :] = trainPredict\n",
        "# shift prediçoes de teste para fazer o plot\n",
        "testPredictPlot = np.empty_like(dataset)\n",
        "testPredictPlot[:, :] = np.nan\n",
        "testPredictPlot[len(trainPredict)+(look_back*2)+1:len(dataset)-1, :] = testPredict\n",
        "# plot original and predicoes\n",
        "plt.plot(scaler.inverse_transform(dataset), color = \"blue\")\n",
        "plt.plot(trainPredictPlot, color=\"green\")\n",
        "plt.plot(testPredictPlot, color=\"red\")\n",
        "plt.show()"
      ],
      "execution_count": 27,
      "outputs": [
        {
          "output_type": "stream",
          "name": "stdout",
          "text": [
            "Epoch 1/100\n",
            "92/92 - 2s - loss: 0.0470 - 2s/epoch - 18ms/step\n",
            "Epoch 2/100\n",
            "92/92 - 0s - loss: 0.0172 - 164ms/epoch - 2ms/step\n",
            "Epoch 3/100\n",
            "92/92 - 0s - loss: 0.0125 - 140ms/epoch - 2ms/step\n",
            "Epoch 4/100\n",
            "92/92 - 0s - loss: 0.0108 - 139ms/epoch - 2ms/step\n",
            "Epoch 5/100\n",
            "92/92 - 0s - loss: 0.0095 - 145ms/epoch - 2ms/step\n",
            "Epoch 6/100\n",
            "92/92 - 0s - loss: 0.0082 - 142ms/epoch - 2ms/step\n",
            "Epoch 7/100\n",
            "92/92 - 0s - loss: 0.0071 - 144ms/epoch - 2ms/step\n",
            "Epoch 8/100\n",
            "92/92 - 0s - loss: 0.0062 - 142ms/epoch - 2ms/step\n",
            "Epoch 9/100\n",
            "92/92 - 0s - loss: 0.0055 - 145ms/epoch - 2ms/step\n",
            "Epoch 10/100\n",
            "92/92 - 0s - loss: 0.0049 - 150ms/epoch - 2ms/step\n",
            "Epoch 11/100\n",
            "92/92 - 0s - loss: 0.0045 - 137ms/epoch - 1ms/step\n",
            "Epoch 12/100\n",
            "92/92 - 0s - loss: 0.0043 - 157ms/epoch - 2ms/step\n",
            "Epoch 13/100\n",
            "92/92 - 0s - loss: 0.0040 - 158ms/epoch - 2ms/step\n",
            "Epoch 14/100\n",
            "92/92 - 0s - loss: 0.0039 - 133ms/epoch - 1ms/step\n",
            "Epoch 15/100\n",
            "92/92 - 0s - loss: 0.0038 - 174ms/epoch - 2ms/step\n",
            "Epoch 16/100\n",
            "92/92 - 0s - loss: 0.0037 - 134ms/epoch - 1ms/step\n",
            "Epoch 17/100\n",
            "92/92 - 0s - loss: 0.0037 - 138ms/epoch - 1ms/step\n",
            "Epoch 18/100\n",
            "92/92 - 0s - loss: 0.0037 - 134ms/epoch - 1ms/step\n",
            "Epoch 19/100\n",
            "92/92 - 0s - loss: 0.0037 - 146ms/epoch - 2ms/step\n",
            "Epoch 20/100\n",
            "92/92 - 0s - loss: 0.0035 - 135ms/epoch - 1ms/step\n",
            "Epoch 21/100\n",
            "92/92 - 0s - loss: 0.0036 - 145ms/epoch - 2ms/step\n",
            "Epoch 22/100\n",
            "92/92 - 0s - loss: 0.0035 - 139ms/epoch - 2ms/step\n",
            "Epoch 23/100\n",
            "92/92 - 0s - loss: 0.0035 - 131ms/epoch - 1ms/step\n",
            "Epoch 24/100\n",
            "92/92 - 0s - loss: 0.0034 - 134ms/epoch - 1ms/step\n",
            "Epoch 25/100\n",
            "92/92 - 0s - loss: 0.0034 - 141ms/epoch - 2ms/step\n",
            "Epoch 26/100\n",
            "92/92 - 0s - loss: 0.0033 - 133ms/epoch - 1ms/step\n",
            "Epoch 27/100\n",
            "92/92 - 0s - loss: 0.0034 - 140ms/epoch - 2ms/step\n",
            "Epoch 28/100\n",
            "92/92 - 0s - loss: 0.0033 - 131ms/epoch - 1ms/step\n",
            "Epoch 29/100\n",
            "92/92 - 0s - loss: 0.0033 - 139ms/epoch - 2ms/step\n",
            "Epoch 30/100\n",
            "92/92 - 0s - loss: 0.0034 - 136ms/epoch - 1ms/step\n",
            "Epoch 31/100\n",
            "92/92 - 0s - loss: 0.0032 - 132ms/epoch - 1ms/step\n",
            "Epoch 32/100\n",
            "92/92 - 0s - loss: 0.0032 - 131ms/epoch - 1ms/step\n",
            "Epoch 33/100\n",
            "92/92 - 0s - loss: 0.0032 - 141ms/epoch - 2ms/step\n",
            "Epoch 34/100\n",
            "92/92 - 0s - loss: 0.0031 - 152ms/epoch - 2ms/step\n",
            "Epoch 35/100\n",
            "92/92 - 0s - loss: 0.0031 - 139ms/epoch - 2ms/step\n",
            "Epoch 36/100\n",
            "92/92 - 0s - loss: 0.0031 - 131ms/epoch - 1ms/step\n",
            "Epoch 37/100\n",
            "92/92 - 0s - loss: 0.0031 - 142ms/epoch - 2ms/step\n",
            "Epoch 38/100\n",
            "92/92 - 0s - loss: 0.0030 - 138ms/epoch - 1ms/step\n",
            "Epoch 39/100\n",
            "92/92 - 0s - loss: 0.0030 - 150ms/epoch - 2ms/step\n",
            "Epoch 40/100\n",
            "92/92 - 0s - loss: 0.0029 - 135ms/epoch - 1ms/step\n",
            "Epoch 41/100\n",
            "92/92 - 0s - loss: 0.0030 - 141ms/epoch - 2ms/step\n",
            "Epoch 42/100\n",
            "92/92 - 0s - loss: 0.0029 - 152ms/epoch - 2ms/step\n",
            "Epoch 43/100\n",
            "92/92 - 0s - loss: 0.0028 - 140ms/epoch - 2ms/step\n",
            "Epoch 44/100\n",
            "92/92 - 0s - loss: 0.0029 - 142ms/epoch - 2ms/step\n",
            "Epoch 45/100\n",
            "92/92 - 0s - loss: 0.0029 - 142ms/epoch - 2ms/step\n",
            "Epoch 46/100\n",
            "92/92 - 0s - loss: 0.0028 - 130ms/epoch - 1ms/step\n",
            "Epoch 47/100\n",
            "92/92 - 0s - loss: 0.0028 - 142ms/epoch - 2ms/step\n",
            "Epoch 48/100\n",
            "92/92 - 0s - loss: 0.0028 - 137ms/epoch - 1ms/step\n",
            "Epoch 49/100\n",
            "92/92 - 0s - loss: 0.0027 - 135ms/epoch - 1ms/step\n",
            "Epoch 50/100\n",
            "92/92 - 0s - loss: 0.0027 - 152ms/epoch - 2ms/step\n",
            "Epoch 51/100\n",
            "92/92 - 0s - loss: 0.0028 - 176ms/epoch - 2ms/step\n",
            "Epoch 52/100\n",
            "92/92 - 0s - loss: 0.0026 - 135ms/epoch - 1ms/step\n",
            "Epoch 53/100\n",
            "92/92 - 0s - loss: 0.0027 - 139ms/epoch - 2ms/step\n",
            "Epoch 54/100\n",
            "92/92 - 0s - loss: 0.0027 - 136ms/epoch - 1ms/step\n",
            "Epoch 55/100\n",
            "92/92 - 0s - loss: 0.0025 - 134ms/epoch - 1ms/step\n",
            "Epoch 56/100\n",
            "92/92 - 0s - loss: 0.0026 - 139ms/epoch - 2ms/step\n",
            "Epoch 57/100\n",
            "92/92 - 0s - loss: 0.0026 - 160ms/epoch - 2ms/step\n",
            "Epoch 58/100\n",
            "92/92 - 0s - loss: 0.0026 - 148ms/epoch - 2ms/step\n",
            "Epoch 59/100\n",
            "92/92 - 0s - loss: 0.0025 - 142ms/epoch - 2ms/step\n",
            "Epoch 60/100\n",
            "92/92 - 0s - loss: 0.0025 - 139ms/epoch - 2ms/step\n",
            "Epoch 61/100\n",
            "92/92 - 0s - loss: 0.0026 - 143ms/epoch - 2ms/step\n",
            "Epoch 62/100\n",
            "92/92 - 0s - loss: 0.0025 - 142ms/epoch - 2ms/step\n",
            "Epoch 63/100\n",
            "92/92 - 0s - loss: 0.0024 - 146ms/epoch - 2ms/step\n",
            "Epoch 64/100\n",
            "92/92 - 0s - loss: 0.0024 - 149ms/epoch - 2ms/step\n",
            "Epoch 65/100\n",
            "92/92 - 0s - loss: 0.0025 - 139ms/epoch - 2ms/step\n",
            "Epoch 66/100\n",
            "92/92 - 0s - loss: 0.0024 - 138ms/epoch - 2ms/step\n",
            "Epoch 67/100\n",
            "92/92 - 0s - loss: 0.0022 - 166ms/epoch - 2ms/step\n",
            "Epoch 68/100\n",
            "92/92 - 0s - loss: 0.0023 - 140ms/epoch - 2ms/step\n",
            "Epoch 69/100\n",
            "92/92 - 0s - loss: 0.0023 - 141ms/epoch - 2ms/step\n",
            "Epoch 70/100\n",
            "92/92 - 0s - loss: 0.0023 - 135ms/epoch - 1ms/step\n",
            "Epoch 71/100\n",
            "92/92 - 0s - loss: 0.0023 - 138ms/epoch - 1ms/step\n",
            "Epoch 72/100\n",
            "92/92 - 0s - loss: 0.0023 - 145ms/epoch - 2ms/step\n",
            "Epoch 73/100\n",
            "92/92 - 0s - loss: 0.0023 - 134ms/epoch - 1ms/step\n",
            "Epoch 74/100\n",
            "92/92 - 0s - loss: 0.0024 - 162ms/epoch - 2ms/step\n",
            "Epoch 75/100\n",
            "92/92 - 0s - loss: 0.0022 - 148ms/epoch - 2ms/step\n",
            "Epoch 76/100\n",
            "92/92 - 0s - loss: 0.0022 - 137ms/epoch - 1ms/step\n",
            "Epoch 77/100\n",
            "92/92 - 0s - loss: 0.0023 - 131ms/epoch - 1ms/step\n",
            "Epoch 78/100\n",
            "92/92 - 0s - loss: 0.0022 - 142ms/epoch - 2ms/step\n",
            "Epoch 79/100\n",
            "92/92 - 0s - loss: 0.0022 - 140ms/epoch - 2ms/step\n",
            "Epoch 80/100\n",
            "92/92 - 0s - loss: 0.0023 - 140ms/epoch - 2ms/step\n",
            "Epoch 81/100\n",
            "92/92 - 0s - loss: 0.0023 - 136ms/epoch - 1ms/step\n",
            "Epoch 82/100\n",
            "92/92 - 0s - loss: 0.0023 - 144ms/epoch - 2ms/step\n",
            "Epoch 83/100\n",
            "92/92 - 0s - loss: 0.0022 - 135ms/epoch - 1ms/step\n",
            "Epoch 84/100\n",
            "92/92 - 0s - loss: 0.0022 - 138ms/epoch - 2ms/step\n",
            "Epoch 85/100\n",
            "92/92 - 0s - loss: 0.0021 - 135ms/epoch - 1ms/step\n",
            "Epoch 86/100\n",
            "92/92 - 0s - loss: 0.0021 - 153ms/epoch - 2ms/step\n",
            "Epoch 87/100\n",
            "92/92 - 0s - loss: 0.0022 - 136ms/epoch - 1ms/step\n",
            "Epoch 88/100\n",
            "92/92 - 0s - loss: 0.0021 - 132ms/epoch - 1ms/step\n",
            "Epoch 89/100\n",
            "92/92 - 0s - loss: 0.0021 - 146ms/epoch - 2ms/step\n",
            "Epoch 90/100\n",
            "92/92 - 0s - loss: 0.0021 - 140ms/epoch - 2ms/step\n",
            "Epoch 91/100\n",
            "92/92 - 0s - loss: 0.0022 - 145ms/epoch - 2ms/step\n",
            "Epoch 92/100\n",
            "92/92 - 0s - loss: 0.0022 - 153ms/epoch - 2ms/step\n",
            "Epoch 93/100\n",
            "92/92 - 0s - loss: 0.0022 - 156ms/epoch - 2ms/step\n",
            "Epoch 94/100\n",
            "92/92 - 0s - loss: 0.0021 - 138ms/epoch - 1ms/step\n",
            "Epoch 95/100\n",
            "92/92 - 0s - loss: 0.0022 - 146ms/epoch - 2ms/step\n",
            "Epoch 96/100\n",
            "92/92 - 0s - loss: 0.0021 - 138ms/epoch - 1ms/step\n",
            "Epoch 97/100\n",
            "92/92 - 0s - loss: 0.0021 - 146ms/epoch - 2ms/step\n",
            "Epoch 98/100\n",
            "92/92 - 0s - loss: 0.0020 - 135ms/epoch - 1ms/step\n",
            "Epoch 99/100\n",
            "92/92 - 0s - loss: 0.0021 - 162ms/epoch - 2ms/step\n",
            "Epoch 100/100\n",
            "92/92 - 0s - loss: 0.0020 - 130ms/epoch - 1ms/step\n",
            "Train Score: 22.98 RMSE\n",
            "Test Score: 57.42 RMSE\n"
          ]
        },
        {
          "output_type": "display_data",
          "data": {
            "text/plain": [
              "<Figure size 432x288 with 1 Axes>"
            ],
            "image/png": "[encoded data removed]"
          },
          "metadata": {
            "needs_background": "light"
          }
        }
      ]
    },
    {
      "cell_type": "markdown",
      "metadata": {
        "id": "9U8JVD3VPQCX"
      },
      "source": [
        "Podemos ver que o erro no conjunto de teste aumentou ligeiramente em relação ao da seção anterior. O tamanho da janela e a arquitetura da rede não foram ajustados: esta é apenas uma demonstração de como enjanelar um problema de previsão."
      ]
    },
    {
      "cell_type": "markdown",
      "metadata": {
        "id": "YfwejLBPSsfm"
      },
      "source": [
        "**LSTM com Memory entre os  Batches** </br>\n",
        "\n",
        "Normalmente, o estado dentro da rede é redefinido após cada batch (lote) de treinamento ao ajustar o modelo, \n",
        "bem como cada chamada para model.predict () ou\n",
        " model.evaluate (). </br>\n",
        "\n",
        "Podemos obter um controle mais preciso sobre quando o estado interno da rede LSTM é desconsiderado, \n",
        "tornando a camada LSTM “com estado”. </br>\n",
        "Isso significa que ele pode criar um estado ao longo de toda a sequência de treinamento e \n",
        "até mesmo manter esse estado, se necessário, para fazer previsões. </br>\n",
        "**Por exemplo:** </br>\n",
        "for i in range(100): </br>\n",
        "\t\t\n",
        "\n",
        "> model.fit(trainX, trainY, epochs=1, batch_size=batch_size, verbose=2, shuffle=False) </br>\n",
        "\n",
        "\n",
        "> model.reset_states() </br>"
      ]
    },
    {
      "cell_type": "code",
      "metadata": {
        "id": "JK_D98_cTjXg",
        "colab": {
          "base_uri": "https://localhost:8080/",
          "height": 1000
        },
        "outputId": "e4f6cbee-3d18-481e-fd73-b83604c7104a"
      },
      "source": [
        "## LSTM para o problema para passageiros em Cia Aerea Intern. com Memoria\n",
        "\n",
        "\n",
        "# separar em conjuntos de train and test \n",
        "train_size = int(len(dataset) * 0.67)\n",
        "test_size = len(dataset) - train_size\n",
        "train, test = dataset[0:train_size,:], dataset[train_size:len(dataset),:]\n",
        "# reshape em X=t and Y=t+1 agora com 3 timesteps anteriores\n",
        "look_back = 1\n",
        "trainX, trainY = create_dataset(train, look_back)\n",
        "testX, testY = create_dataset(test, look_back)\n",
        "# reshape entrada na forma [samples, time steps, features]\n",
        "trainX = np.reshape(trainX, (trainX.shape[0], trainX.shape[1], 1))\n",
        "testX = np.reshape(testX, (testX.shape[0], testX.shape[1], 1))\n",
        "# criar e aplicar a rede LSTM \n",
        "batch_size = 1\n",
        "model = Sequential()\n",
        "model.add(LSTM(4, batch_input_shape=(batch_size, look_back, 1), stateful=True))\n",
        "model.add(Dense(1))\n",
        "model.compile(loss='mean_squared_error', optimizer='adam')\n",
        "#Nos treinaremos para todos os exemplos em cada epoca e resetamos o estado da rede no final\n",
        "# de cada epoca manualmente.\n",
        "#Ou seja, os pesos são atualizados ao final de cada epoca\n",
        "for i in range(100):\n",
        "\tmodel.fit(trainX, trainY, epochs=1, batch_size=batch_size, verbose=2, shuffle=False)\t\n",
        "\tmodel.reset_states()\n",
        "# fazer as predicoes\n",
        "trainPredict = model.predict(trainX, batch_size=batch_size)\n",
        "model.reset_states()\n",
        "testPredict = model.predict(testX, batch_size=batch_size)\n",
        "# inverter as predicoes\n",
        "trainPredict = scaler.inverse_transform(trainPredict)\n",
        "trainY = scaler.inverse_transform([trainY])\n",
        "testPredict = scaler.inverse_transform(testPredict)\n",
        "testY = scaler.inverse_transform([testY])\n",
        "# calcular o RMSE - root mean squared error\n",
        "trainScore = math.sqrt(mean_squared_error(trainY[0], trainPredict[:,0]))\n",
        "print('Train Score: %.2f RMSE' % (trainScore))\n",
        "testScore = math.sqrt(mean_squared_error(testY[0], testPredict[:,0]))\n",
        "print('Test Score: %.2f RMSE' % (testScore))\n",
        "# shift predicoes de treinamento para plotar\n",
        "trainPredictPlot = np.empty_like(dataset)\n",
        "trainPredictPlot[:, :] = np.nan\n",
        "trainPredictPlot[look_back:len(trainPredict)+look_back, :] = trainPredict\n",
        "# shift predicoes de teste para plotar\n",
        "testPredictPlot = np.empty_like(dataset)\n",
        "testPredictPlot[:, :] = np.nan\n",
        "testPredictPlot[len(trainPredict)+(look_back*2)+1:len(dataset)-1, :] = testPredict\n",
        "# plot original e predicoes\n",
        "plt.plot(scaler.inverse_transform(dataset), color=\"blue\")\n",
        "plt.plot(trainPredictPlot, color=\"green\")\n",
        "plt.plot(testPredictPlot, color=\"red\")\n",
        "plt.show()"
      ],
      "execution_count": 31,
      "outputs": [
        {
          "output_type": "stream",
          "name": "stdout",
          "text": [
            "94/94 - 3s - loss: 0.0039 - 3s/epoch - 31ms/step\n",
            "94/94 - 0s - loss: 0.0042 - 158ms/epoch - 2ms/step\n",
            "94/94 - 0s - loss: 0.0039 - 147ms/epoch - 2ms/step\n",
            "94/94 - 0s - loss: 0.0039 - 152ms/epoch - 2ms/step\n",
            "94/94 - 0s - loss: 0.0038 - 149ms/epoch - 2ms/step\n",
            "94/94 - 0s - loss: 0.0038 - 145ms/epoch - 2ms/step\n",
            "94/94 - 0s - loss: 0.0038 - 142ms/epoch - 2ms/step\n",
            "94/94 - 0s - loss: 0.0038 - 150ms/epoch - 2ms/step\n",
            "94/94 - 0s - loss: 0.0037 - 140ms/epoch - 1ms/step\n",
            "94/94 - 0s - loss: 0.0037 - 134ms/epoch - 1ms/step\n",
            "94/94 - 0s - loss: 0.0037 - 156ms/epoch - 2ms/step\n",
            "94/94 - 0s - loss: 0.0037 - 148ms/epoch - 2ms/step\n",
            "94/94 - 0s - loss: 0.0036 - 149ms/epoch - 2ms/step\n",
            "94/94 - 0s - loss: 0.0036 - 139ms/epoch - 1ms/step\n",
            "94/94 - 0s - loss: 0.0036 - 147ms/epoch - 2ms/step\n",
            "94/94 - 0s - loss: 0.0036 - 144ms/epoch - 2ms/step\n",
            "94/94 - 0s - loss: 0.0036 - 150ms/epoch - 2ms/step\n",
            "94/94 - 0s - loss: 0.0035 - 151ms/epoch - 2ms/step\n",
            "94/94 - 0s - loss: 0.0035 - 145ms/epoch - 2ms/step\n",
            "94/94 - 0s - loss: 0.0035 - 135ms/epoch - 1ms/step\n",
            "94/94 - 0s - loss: 0.0035 - 147ms/epoch - 2ms/step\n",
            "94/94 - 0s - loss: 0.0034 - 158ms/epoch - 2ms/step\n",
            "94/94 - 0s - loss: 0.0034 - 148ms/epoch - 2ms/step\n",
            "94/94 - 0s - loss: 0.0034 - 146ms/epoch - 2ms/step\n",
            "94/94 - 0s - loss: 0.0034 - 143ms/epoch - 2ms/step\n",
            "94/94 - 0s - loss: 0.0033 - 152ms/epoch - 2ms/step\n",
            "94/94 - 0s - loss: 0.0033 - 147ms/epoch - 2ms/step\n",
            "94/94 - 0s - loss: 0.0033 - 136ms/epoch - 1ms/step\n",
            "94/94 - 0s - loss: 0.0032 - 150ms/epoch - 2ms/step\n",
            "94/94 - 0s - loss: 0.0032 - 133ms/epoch - 1ms/step\n",
            "94/94 - 0s - loss: 0.0032 - 135ms/epoch - 1ms/step\n",
            "94/94 - 0s - loss: 0.0032 - 134ms/epoch - 1ms/step\n",
            "94/94 - 0s - loss: 0.0031 - 140ms/epoch - 1ms/step\n",
            "94/94 - 0s - loss: 0.0031 - 146ms/epoch - 2ms/step\n",
            "94/94 - 0s - loss: 0.0031 - 156ms/epoch - 2ms/step\n",
            "94/94 - 0s - loss: 0.0030 - 143ms/epoch - 2ms/step\n",
            "94/94 - 0s - loss: 0.0030 - 141ms/epoch - 2ms/step\n",
            "94/94 - 0s - loss: 0.0030 - 136ms/epoch - 1ms/step\n",
            "94/94 - 0s - loss: 0.0030 - 138ms/epoch - 1ms/step\n",
            "94/94 - 0s - loss: 0.0029 - 137ms/epoch - 1ms/step\n",
            "94/94 - 0s - loss: 0.0029 - 146ms/epoch - 2ms/step\n",
            "94/94 - 0s - loss: 0.0029 - 159ms/epoch - 2ms/step\n",
            "94/94 - 0s - loss: 0.0028 - 149ms/epoch - 2ms/step\n",
            "94/94 - 0s - loss: 0.0028 - 151ms/epoch - 2ms/step\n",
            "94/94 - 0s - loss: 0.0028 - 133ms/epoch - 1ms/step\n",
            "94/94 - 0s - loss: 0.0027 - 148ms/epoch - 2ms/step\n",
            "94/94 - 0s - loss: 0.0027 - 147ms/epoch - 2ms/step\n",
            "94/94 - 0s - loss: 0.0027 - 148ms/epoch - 2ms/step\n",
            "94/94 - 0s - loss: 0.0026 - 141ms/epoch - 2ms/step\n",
            "94/94 - 0s - loss: 0.0026 - 153ms/epoch - 2ms/step\n",
            "94/94 - 0s - loss: 0.0026 - 139ms/epoch - 1ms/step\n",
            "94/94 - 0s - loss: 0.0025 - 151ms/epoch - 2ms/step\n",
            "94/94 - 0s - loss: 0.0025 - 140ms/epoch - 1ms/step\n",
            "94/94 - 0s - loss: 0.0025 - 143ms/epoch - 2ms/step\n",
            "94/94 - 0s - loss: 0.0024 - 138ms/epoch - 1ms/step\n",
            "94/94 - 0s - loss: 0.0024 - 142ms/epoch - 2ms/step\n",
            "94/94 - 0s - loss: 0.0024 - 139ms/epoch - 1ms/step\n",
            "94/94 - 0s - loss: 0.0023 - 143ms/epoch - 2ms/step\n",
            "94/94 - 0s - loss: 0.0023 - 143ms/epoch - 2ms/step\n",
            "94/94 - 0s - loss: 0.0023 - 149ms/epoch - 2ms/step\n",
            "94/94 - 0s - loss: 0.0022 - 140ms/epoch - 1ms/step\n",
            "94/94 - 0s - loss: 0.0022 - 140ms/epoch - 1ms/step\n",
            "94/94 - 0s - loss: 0.0022 - 158ms/epoch - 2ms/step\n",
            "94/94 - 0s - loss: 0.0021 - 139ms/epoch - 1ms/step\n",
            "94/94 - 0s - loss: 0.0021 - 146ms/epoch - 2ms/step\n",
            "94/94 - 0s - loss: 0.0021 - 136ms/epoch - 1ms/step\n",
            "94/94 - 0s - loss: 0.0020 - 153ms/epoch - 2ms/step\n",
            "94/94 - 0s - loss: 0.0020 - 143ms/epoch - 2ms/step\n",
            "94/94 - 0s - loss: 0.0020 - 146ms/epoch - 2ms/step\n",
            "94/94 - 0s - loss: 0.0019 - 144ms/epoch - 2ms/step\n",
            "94/94 - 0s - loss: 0.0019 - 145ms/epoch - 2ms/step\n",
            "94/94 - 0s - loss: 0.0019 - 138ms/epoch - 1ms/step\n",
            "94/94 - 0s - loss: 0.0018 - 141ms/epoch - 2ms/step\n",
            "94/94 - 0s - loss: 0.0018 - 151ms/epoch - 2ms/step\n",
            "94/94 - 0s - loss: 0.0018 - 151ms/epoch - 2ms/step\n",
            "94/94 - 0s - loss: 0.0018 - 141ms/epoch - 1ms/step\n",
            "94/94 - 0s - loss: 0.0018 - 141ms/epoch - 2ms/step\n",
            "94/94 - 0s - loss: 0.0017 - 139ms/epoch - 1ms/step\n",
            "94/94 - 0s - loss: 0.0017 - 137ms/epoch - 1ms/step\n",
            "94/94 - 0s - loss: 0.0017 - 143ms/epoch - 2ms/step\n",
            "94/94 - 0s - loss: 0.0017 - 142ms/epoch - 2ms/step\n",
            "94/94 - 0s - loss: 0.0017 - 143ms/epoch - 2ms/step\n",
            "94/94 - 0s - loss: 0.0016 - 151ms/epoch - 2ms/step\n",
            "94/94 - 0s - loss: 0.0016 - 149ms/epoch - 2ms/step\n",
            "94/94 - 0s - loss: 0.0016 - 135ms/epoch - 1ms/step\n",
            "94/94 - 0s - loss: 0.0016 - 138ms/epoch - 1ms/step\n",
            "94/94 - 0s - loss: 0.0016 - 148ms/epoch - 2ms/step\n",
            "94/94 - 0s - loss: 0.0016 - 147ms/epoch - 2ms/step\n",
            "94/94 - 0s - loss: 0.0016 - 146ms/epoch - 2ms/step\n",
            "94/94 - 0s - loss: 0.0016 - 141ms/epoch - 2ms/step\n",
            "94/94 - 0s - loss: 0.0016 - 151ms/epoch - 2ms/step\n",
            "94/94 - 0s - loss: 0.0016 - 143ms/epoch - 2ms/step\n",
            "94/94 - 0s - loss: 0.0016 - 145ms/epoch - 2ms/step\n",
            "94/94 - 0s - loss: 0.0016 - 154ms/epoch - 2ms/step\n",
            "94/94 - 0s - loss: 0.0016 - 167ms/epoch - 2ms/step\n",
            "94/94 - 0s - loss: 0.0015 - 152ms/epoch - 2ms/step\n",
            "94/94 - 0s - loss: 0.0015 - 142ms/epoch - 2ms/step\n",
            "94/94 - 0s - loss: 0.0015 - 141ms/epoch - 2ms/step\n",
            "94/94 - 0s - loss: 0.0015 - 157ms/epoch - 2ms/step\n",
            "94/94 - 0s - loss: 0.0015 - 153ms/epoch - 2ms/step\n",
            "Train Score: 20.79 RMSE\n",
            "Test Score: 50.31 RMSE\n"
          ]
        },
        {
          "output_type": "display_data",
          "data": {
            "text/plain": [
              "<Figure size 432x288 with 1 Axes>"
            ],
            "image/png": "[encoded data removed]"
          },
          "metadata": {
            "needs_background": "light"
          }
        }
      ]
    }
  ]
}