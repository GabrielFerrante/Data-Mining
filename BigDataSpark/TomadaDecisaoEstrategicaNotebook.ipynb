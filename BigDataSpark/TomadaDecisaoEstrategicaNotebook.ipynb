{
  "nbformat": 4,
  "nbformat_minor": 0,
  "metadata": {
    "colab": {
      "provenance": [],
      "collapsed_sections": [],
      "toc_visible": true
    },
    "kernelspec": {
      "name": "python3",
      "display_name": "Python 3"
    }
  },
  "cells": [
    {
      "cell_type": "markdown",
      "metadata": {
        "id": "flekT6GFDN6m"
      },
      "source": [
        "# <span style=\"color:blue\">Tomada de Decisão Estratégica sobre Volumes Massivos de Dados</span>\n",
        "\n",
        "## <span style=\"color:blue\">Notebook com Consultas Analíticas</span>\n",
        "\n",
        "**Profa. Dra. Cristina Dutra de Aguiar**\n",
        "\n",
        "**ICMC/USP**\n",
        "\n",
        "**IMPORTANTE: O uso do *framework* Spark requer diversas configurações no ambiente de desenvolvimento para executar o *notebook*. Dado que tal complexidade foge do escopo de nosso curso, recomenda-se que o *notebook* seja executado na plataforma de desenvolvimento COLAB. O uso do COLAB  proporciona um ambiente de desenvolvimento pré-configurado e remove a complexidade de instalação e configuração de pacotes e *frameworks* que são utilizados no curso.** \n"
      ]
    },
    {
      "cell_type": "markdown",
      "source": [
        "# 1 Projeto do data mart Pagamento\n",
        "\n",
        "**Tabelas de dimensão**\n",
        "\n",
        "data (dataPK, dataCompleta, dataDia, dataMes, dataBimestre, dataTrimestre, dataSemestre, dataAno)\n",
        "\n",
        "funcionario (funcPK, funcMatricula, funcNome, funcSexo, funcDataNascimento, funcDiaNascimento, funcMesNascimento, funcAnoNascimento, funcCidade, funcEstadoNome, funcEstadoSigla, funcRegiaoNome, funcRegiaoSigla, funcPaisNome, funcPaisSigla)\n",
        "\n",
        "equipe (equipePK, equipeNome, filialNome, filialCidade, filialEstadoNome, filialEstadoSigla, filialRegiaoNome, filialRegiaoSigla, filialPaisNome, filialPaisSigla)\n",
        "\n",
        "cargo (cargoPK, cargoNome, cargoRegimeTrabalho, cargoEscolaridadeMinima, cargoNivel)\n",
        "\n",
        "**Tabela de fatos**\n",
        "\n",
        "pagamento (dataPK, funcPK, equipePK, cargoPK, salario, quantidadeLancamentos)"
      ],
      "metadata": {
        "id": "K06LIWuYFI0-"
      }
    },
    {
      "cell_type": "markdown",
      "source": [
        "# 2. Obtenção dos Dados"
      ],
      "metadata": {
        "id": "XewIHYHLDM4a"
      }
    },
    {
      "cell_type": "markdown",
      "metadata": {
        "id": "CCCNC64AzBG0"
      },
      "source": [
        "## 2.1 Instalando o módulo wget\n",
        "\n",
        "Para obter os dados referentes ao projeto do data mart Pagamento, é utilizado o módulo  **wget**. A instalação desse módulo é feita a seguir. <br>"
      ]
    },
    {
      "cell_type": "code",
      "metadata": {
        "id": "3e0Eao1K0EYG"
      },
      "source": [
        "# instalando o módulo wget\n",
        "%%capture\n",
        "!pip install -q wget\n",
        "\n",
        "# criando uma pasta para salvar os dados das relações\n",
        "!mkdir data\n",
        "\n",
        "# importando o módulo wget\n",
        "import wget"
      ],
      "execution_count": null,
      "outputs": []
    },
    {
      "cell_type": "markdown",
      "metadata": {
        "id": "j56pVJ2hZ2i5"
      },
      "source": [
        "## 2.2 Obtendo os dados que povoam as tabelas de dimensão"
      ]
    },
    {
      "cell_type": "code",
      "metadata": {
        "id": "46QzTpLJwfkW",
        "cellView": "both",
        "colab": {
          "base_uri": "https://localhost:8080/",
          "height": 35
        },
        "outputId": "36188d8f-6b8c-47d8-ab99-5c8eba636258"
      },
      "source": [
        "# obtendo os dados da tabela de dimensão data\n",
        "url = \"https://raw.githubusercontent.com/CristinaAguiar/DataMartCelebCo/main/data.csv\"\n",
        "wget.download(url, \"data/data.csv\")\n",
        "\n",
        "# obtendo os dados da tabela de dimensão funcionario\n",
        "url = \"https://raw.githubusercontent.com/CristinaAguiar/DataMartCelebCo/main/funcionario.csv\"\n",
        "wget.download(url, \"data/funcionario.csv\")\n",
        "\n",
        "# obtendo os dados da tabela de dimensão equipe\n",
        "url = \"https://raw.githubusercontent.com/CristinaAguiar/DataMartCelebCo/main/equipe.csv\"\n",
        "wget.download(url, \"data/equipe.csv\")\n",
        "\n",
        "# obtendo os dados da tabela de dimensão cargo\n",
        "url = \"https://raw.githubusercontent.com/CristinaAguiar/DataMartCelebCo/main/cargo.csv\"\n",
        "wget.download(url, \"data/cargo.csv\")\n"
      ],
      "execution_count": null,
      "outputs": [
        {
          "output_type": "execute_result",
          "data": {
            "text/plain": [
              "'data/cargo (1).csv'"
            ],
            "application/vnd.google.colaboratory.intrinsic+json": {
              "type": "string"
            }
          },
          "metadata": {},
          "execution_count": 2
        }
      ]
    },
    {
      "cell_type": "markdown",
      "metadata": {
        "id": "0o-dC7feszRc"
      },
      "source": [
        "## 2.3 Obtendo os dados que povoam a tabela de fatos"
      ]
    },
    {
      "cell_type": "code",
      "metadata": {
        "id": "XWM-CUFgBl_8",
        "colab": {
          "base_uri": "https://localhost:8080/",
          "height": 35
        },
        "outputId": "d78de6b7-bac0-4da7-dc7f-276036c241b1"
      },
      "source": [
        "# obtendo os dados da tabela de fatos pagamento\n",
        "url = \"https://raw.githubusercontent.com/CristinaAguiar/DataMartCelebCo/main/pagamento.csv\"\n",
        "wget.download(url, \"data/pagamento.csv\")"
      ],
      "execution_count": null,
      "outputs": [
        {
          "output_type": "execute_result",
          "data": {
            "text/plain": [
              "'data/pagamento (1).csv'"
            ],
            "application/vnd.google.colaboratory.intrinsic+json": {
              "type": "string"
            }
          },
          "metadata": {},
          "execution_count": 3
        }
      ]
    },
    {
      "cell_type": "markdown",
      "metadata": {
        "id": "sO16-7-jOioq"
      },
      "source": [
        "# 3 Configuração do Apache Spark Cluster"
      ]
    },
    {
      "cell_type": "markdown",
      "metadata": {
        "id": "YVEgY9qKflBV"
      },
      "source": [
        "## 3.1 Instalando pacotes\n",
        "\n",
        "Neste *notebook* é criado um *cluster* Spark composto apenas por um **nó mestre**. Ou seja, o *cluster* não possui um ou mais **nós de trabalho** e o **gerenciador de cluster**. Nessa configuração, as tarefas (*tasks*) são realizadas no próprio *driver* localizado no **nó mestre**."
      ]
    },
    {
      "cell_type": "markdown",
      "metadata": {
        "id": "KaM-OnIjgLS2"
      },
      "source": [
        "Para que o cluster possa ser criado, primeiramente é instalado o Java Runtime Environment (JRE) versão 11. "
      ]
    },
    {
      "cell_type": "code",
      "metadata": {
        "id": "NXls3bfoglKW"
      },
      "source": [
        "# instalando Java Runtime Environment (JRE) versão 11\n",
        "%%capture\n",
        "!apt-get remove openjdk*\n",
        "!apt-get update --fix-missing\n",
        "!apt-get install openjdk-11-jdk"
      ],
      "execution_count": null,
      "outputs": []
    },
    {
      "cell_type": "markdown",
      "metadata": {
        "id": "7BQzZfDYhb4j"
      },
      "source": [
        "Na sequência, é feito o *download* do Apache Spark versão 3.2.2."
      ]
    },
    {
      "cell_type": "code",
      "metadata": {
        "id": "8a_Yv59zg3gm"
      },
      "source": [
        "# baixando Apache Spark versão 3.2.2\n",
        "%%capture\n",
        "!wget -c https://archive.apache.org/dist/spark/spark-3.2.2/spark-3.2.2-bin-hadoop3.2.tgz -O spark-bin-hadoop.tgz\n",
        "!tar xf spark-bin-hadoop.tgz && rm spark-bin-hadoop.tgz"
      ],
      "execution_count": null,
      "outputs": []
    },
    {
      "cell_type": "markdown",
      "metadata": {
        "id": "RETWX6wqhkLf"
      },
      "source": [
        "Na sequência, são configuradas as variáveis de ambiente JAVA_HOME e SPARK_HOME. Isto permite que tanto o Java quanto o Spark possam ser encontrados."
      ]
    },
    {
      "cell_type": "code",
      "metadata": {
        "id": "iZpR7NwOh2EB"
      },
      "source": [
        "import os\n",
        "\n",
        "# configurando a variável de ambiente JAVA_HOME\n",
        "os.environ[\"JAVA_HOME\"] = \"/usr/lib/jvm/java-1.11.0-openjdk-amd64\"\n",
        "\n",
        "# configurando a variável de ambiente SPARK_HOME\n",
        "os.environ[\"SPARK_HOME\"] = \"/content/spark-3.2.2-bin-hadoop3.2\""
      ],
      "execution_count": null,
      "outputs": []
    },
    {
      "cell_type": "markdown",
      "metadata": {
        "id": "Ql0z7Ro1iHQb"
      },
      "source": [
        "Também são instalados dois pacotes da linguagem de programação Python, cujas funcionalidades são descritas a seguir.\n",
        "\n",
        "> **Pacote findspark:** Usado para ler a variável de ambiente SPARK_HOME e armazenar seu valor na variável dinâmica de ambiente PYTHONPATH. Como resultado, Python pode encontrar a instalação do Spark. \n",
        "\n",
        "> **Pacote pyspark:** PySpark é a API do Python para Spark. Ela possibilita o uso de Python, considerando que o *framework* Apache Spark encontra-se desenvolvido na linguagem de programação Scala. "
      ]
    },
    {
      "cell_type": "code",
      "metadata": {
        "id": "5oSYOwKljPf5"
      },
      "source": [
        "%%capture\n",
        "\n",
        "#instalando o pacote findspark\n",
        "!pip install -q findspark==2.0.1\n",
        "\n",
        "#instalando o pacote pyspark\n",
        "!pip install -q pyspark==3.2.2"
      ],
      "execution_count": null,
      "outputs": []
    },
    {
      "cell_type": "markdown",
      "metadata": {
        "id": "eAaLyjPzmIwZ"
      },
      "source": [
        "PySpark não é adicionado ao *sys.path* por padrão. Isso significa que não é possível importá-lo, pois o interpretador da linguagem Python não sabe onde encontrá-lo. Para resolver esse aspecto, é necessário instalar o módulo `findspark`, o qual mostra onde PySpark está localizado. \n"
      ]
    },
    {
      "cell_type": "code",
      "metadata": {
        "id": "-zm1pBTEmjp4"
      },
      "source": [
        "# importando o módulo findspark\n",
        "import findspark\n",
        "\n",
        "# carregando a variávels SPARK_HOME na variável dinâmica PYTHONPATH\n",
        "findspark.init()"
      ],
      "execution_count": null,
      "outputs": []
    },
    {
      "cell_type": "markdown",
      "source": [
        "## 3.3 Criando uma sessão"
      ],
      "metadata": {
        "id": "W3cn0QwAGFcZ"
      }
    },
    {
      "cell_type": "markdown",
      "metadata": {
        "id": "ZDqfefF7YUab"
      },
      "source": [
        "Depois de configurados os pacotes e módulos e inicializadas as variáveis de ambiente, é possível iniciar o uso do Spark. Para tanto, é necessário importar o comando `SparkSession` do módulo `pyspark.sql`. São utilizados os seguintes conceitos: <br>\n",
        "\n",
        "- `SparkSession`: permite a criação de `DataFrames`. Como resultado, as tabelas relacionais podem ser manipuladas por meio de `DataFrames` e é possível realizar consultas analíticas por meio de comandos SQL. <br>\n",
        "- `builder`: cria uma instância de SparkSession. <br>\n",
        "- `appName`: define um nome para a aplicação, o qual pode ser visto na interface de usuário web do Spark. <br> \n",
        "- `master`: define onde está o nó mestre do *cluster*. Como a aplicação é executada localmente e não em um *cluster*, indica-se isso pela *string* `local` seguida do parâmetro `[*]`. Ou seja, define-se que apenas núcleos locais são utilizados. \n",
        "- `getOrCreate`: cria uma SparkSession. Caso ela já exista, retorna a instância existente. \n",
        "\n",
        "\n",
        "**Observação**: A lista completa de todos os parâmetros que podem ser utilizados na inicialização do *cluster* pode ser encontrada neste [link](https://spark.apache.org/docs/latest/spark-standalone.html#cluster-launch-scripts)."
      ]
    },
    {
      "cell_type": "code",
      "metadata": {
        "id": "9TxljJ_cwBCy"
      },
      "source": [
        "# criando SparkSession\n",
        "from pyspark.sql import SparkSession\n",
        "\n",
        "spark = SparkSession.builder.appName(\"pyspark-notebook\").master(\"local[*]\").getOrCreate()"
      ],
      "execution_count": null,
      "outputs": []
    },
    {
      "cell_type": "markdown",
      "metadata": {
        "id": "5qL9SiR_pQE2"
      },
      "source": [
        "# 4 Carregamento dos Dados\n"
      ]
    },
    {
      "cell_type": "markdown",
      "metadata": {
        "id": "WtUGn-uyBJWY"
      },
      "source": [
        "## 4.1 Criando DataFrames em Spark \n",
        "Para a leitura dos dados dos arquivos .csv, é utilizado o método `spark.read.csv`. Seus parâmetros são:\n",
        "\n",
        "\n",
        "- `path`: endereço do arquivo que é lido.\n",
        "- `header`: indica se o arquivo possui um cabeçalho.\n",
        "- `sep`: especifica o caractere que separa os campos do arquivo.\n",
        "\n"
      ]
    },
    {
      "cell_type": "markdown",
      "source": [
        "### 4.1.1 Criando DataFrames em Spark para as tabelas de dimensão"
      ],
      "metadata": {
        "id": "n9oSsZBTHcsU"
      }
    },
    {
      "cell_type": "code",
      "source": [
        "# criando e exibindo o DataFrame para a tabela de dimensão data\n",
        "data = spark.read.csv(path=\"data/data.csv\", header=True, sep=\",\") \n",
        "data.show(5)"
      ],
      "metadata": {
        "colab": {
          "base_uri": "https://localhost:8080/"
        },
        "id": "WqgyLiOnGxM8",
        "outputId": "12792399-6294-4de6-b23f-c6ed895a4168"
      },
      "execution_count": null,
      "outputs": [
        {
          "output_type": "stream",
          "name": "stdout",
          "text": [
            "+------+------------+-------+-------+------------+-------------+------------+-------+\n",
            "|dataPK|dataCompleta|dataDia|dataMes|dataBimestre|dataTrimestre|dataSemestre|dataAno|\n",
            "+------+------------+-------+-------+------------+-------------+------------+-------+\n",
            "|     1|  01/01/2017|      1|      1|           1|            1|           1|   2017|\n",
            "|     2|  02/01/2017|      2|      1|           1|            1|           1|   2017|\n",
            "|     3|  03/01/2017|      3|      1|           1|            1|           1|   2017|\n",
            "|     4|  04/01/2017|      4|      1|           1|            1|           1|   2017|\n",
            "|     5|  05/01/2017|      5|      1|           1|            1|           1|   2017|\n",
            "+------+------------+-------+-------+------------+-------------+------------+-------+\n",
            "only showing top 5 rows\n",
            "\n"
          ]
        }
      ]
    },
    {
      "cell_type": "code",
      "source": [
        "# criando e exibindo o DataFrame para a tabela de fatos funcionario\n",
        "funcionario = spark.read.csv(path=\"data/funcionario.csv\", header=True, sep=\",\")\n",
        "funcionario.show(5)"
      ],
      "metadata": {
        "colab": {
          "base_uri": "https://localhost:8080/"
        },
        "id": "lAHd2ii_G1tB",
        "outputId": "1a28a927-ec34-48ae-d4ef-4ff409d84f92"
      },
      "execution_count": null,
      "outputs": [
        {
          "output_type": "stream",
          "name": "stdout",
          "text": [
            "+------+-------------+------------------+--------+------------------+-----------------+-----------------+-----------------+-----------+--------------+---------------+--------------+---------------+------------+-------------+\n",
            "|funcPK|funcMatricula|          funcNome|funcSexo|funcDataNascimento|funcDiaNascimento|funcMesNascimento|funcAnoNascimento| funcCidade|funcEstadoNome|funcEstadoSigla|funcRegiaoNome|funcRegiaoSigla|funcPaisNome|funcPaisSigla|\n",
            "+------+-------------+------------------+--------+------------------+-----------------+-----------------+-----------------+-----------+--------------+---------------+--------------+---------------+------------+-------------+\n",
            "|     1|          M-1|MARGARET HENDERSON|       F|        01/01/1992|                1|                1|             1992|  SAO PAULO|     SAO PAULO|             SP|       SUDESTE|             SE|      BRASIL|           BR|\n",
            "|     2|          M-2|       LLOYD UPTON|       M|        02/02/1992|                2|                2|             1992|   CAMPINAS|     SAO PAULO|             SP|       SUDESTE|             SE|      BRASIL|           BR|\n",
            "|     3|          M-3|         GUY HOUGH|       M|        03/03/1992|                3|                3|             1992|     SANTOS|     SAO PAULO|             SP|       SUDESTE|             SE|      BRASIL|           BR|\n",
            "|     4|          M-4|        JONNA BESS|       F|        04/04/1992|                4|                4|             1992|SANTO ANDRE|     SAO PAULO|             SP|       SUDESTE|             SE|      BRASIL|           BR|\n",
            "|     5|          M-5|   JOHN BUSTAMANTE|       M|        05/05/1992|                5|                5|             1992| PIRACICABA|     SAO PAULO|             SP|       SUDESTE|             SE|      BRASIL|           BR|\n",
            "+------+-------------+------------------+--------+------------------+-----------------+-----------------+-----------------+-----------+--------------+---------------+--------------+---------------+------------+-------------+\n",
            "only showing top 5 rows\n",
            "\n"
          ]
        }
      ]
    },
    {
      "cell_type": "code",
      "source": [
        "# criando e exibindo o DataFrame para a tabela de dimensão equipe\n",
        "equipe = spark.read.csv(path=\"data/equipe.csv\", header=True, sep=\",\")\n",
        "equipe.show(5)"
      ],
      "metadata": {
        "colab": {
          "base_uri": "https://localhost:8080/"
        },
        "id": "g7gRywglG6FY",
        "outputId": "abfaf2c3-b3b6-40c4-9e41-a63321057192"
      },
      "execution_count": null,
      "outputs": [
        {
          "output_type": "stream",
          "name": "stdout",
          "text": [
            "+--------+-------------+--------------------+--------------+------------------+-----------------+----------------+-----------------+--------------+---------------+\n",
            "|equipePK|   equipeNome|          filialNome|  filialCidade|  filialEstadoNome|filialEstadoSigla|filialRegiaoNome|filialRegiaoSigla|filialPaisNome|filialPaisSigla|\n",
            "+--------+-------------+--------------------+--------------+------------------+-----------------+----------------+-----------------+--------------+---------------+\n",
            "|       1| SERVICO PLUS|SAO PAULO - IPIRANGA|     SAO PAULO|         SAO PAULO|               SP|         SUDESTE|               SE|        BRASIL|             BR|\n",
            "|       2| SERVICO PLUS|RIO DE JANEIRO - ...|RIO DE JANEIRO|    RIO DE JANEIRO|               RJ|         SUDESTE|               SE|        BRASIL|             BR|\n",
            "|       3|SERVICO BASIC|SAO PAULO - IPIRANGA|     SAO PAULO|         SAO PAULO|               SP|         SUDESTE|               SE|        BRASIL|             BR|\n",
            "|       4|SERVICO BASIC|RIO DE JANEIRO - ...|RIO DE JANEIRO|    RIO DE JANEIRO|               RJ|         SUDESTE|               SE|        BRASIL|             BR|\n",
            "|       5|SERVICO BASIC|CAMPO GRANDE - PROSA|  CAMPO GRANDE|MATO GROSSO DO SUL|               MS|    CENTRO-OESTE|               CO|        BRASIL|             BR|\n",
            "+--------+-------------+--------------------+--------------+------------------+-----------------+----------------+-----------------+--------------+---------------+\n",
            "only showing top 5 rows\n",
            "\n"
          ]
        }
      ]
    },
    {
      "cell_type": "code",
      "metadata": {
        "cellView": "both",
        "id": "FNR-3dV6oYk4",
        "colab": {
          "base_uri": "https://localhost:8080/"
        },
        "outputId": "266aa9f9-4ce9-4223-a096-e451be87f7ea"
      },
      "source": [
        "# criando e exibindo o DataFrame para a tabela de dimensão cargo\n",
        "cargo = spark.read.csv(path=\"data/cargo.csv\", header=True, sep=\",\")\n",
        "cargo.show(5)\n"
      ],
      "execution_count": null,
      "outputs": [
        {
          "output_type": "stream",
          "name": "stdout",
          "text": [
            "+-------+----------+-------------------+--------------------+-----------------------+----------+\n",
            "|cargoPK| cargoNome|cargoRegimeTrabalho|cargoJornadaTrabalho|cargoEscolaridadeMinima|cargoNivel|\n",
            "+-------+----------+-------------------+--------------------+-----------------------+----------+\n",
            "|      1|COZINHEIRO|         TEMPORARIO|                 20H|                  MEDIO|    JUNIOR|\n",
            "|      2|COZINHEIRO|         TEMPORARIO|                 20H|               SUPERIOR|     PLENO|\n",
            "|      3|COZINHEIRO|         TEMPORARIO|                 20H|                    POS|    SENIOR|\n",
            "|      4|COZINHEIRO|         TEMPORARIO|                 40H|                  MEDIO|    JUNIOR|\n",
            "|      5|COZINHEIRO|         TEMPORARIO|                 40H|               SUPERIOR|     PLENO|\n",
            "+-------+----------+-------------------+--------------------+-----------------------+----------+\n",
            "only showing top 5 rows\n",
            "\n"
          ]
        }
      ]
    },
    {
      "cell_type": "markdown",
      "source": [
        "### 4.1.2 Criando DataFrames em Spark para a tabela de fatos"
      ],
      "metadata": {
        "id": "eYwd78JnHjeT"
      }
    },
    {
      "cell_type": "code",
      "source": [
        "# criando e exibindo o DataFrame para a tabela de fatos pagamento\n",
        "pagamento = spark.read.csv(path=\"data/pagamento.csv\", header=True, sep=\",\")\n",
        "pagamento.show()"
      ],
      "metadata": {
        "colab": {
          "base_uri": "https://localhost:8080/"
        },
        "id": "xhnIc4kOHIdu",
        "outputId": "ebdbe699-2ff3-41c6-f3ad-895e4134f3cb"
      },
      "execution_count": null,
      "outputs": [
        {
          "output_type": "stream",
          "name": "stdout",
          "text": [
            "+------+--------+------+-------+--------+---------------------+\n",
            "|funcPK|equipePK|dataPK|cargoPK| salario|quantidadeLancamentos|\n",
            "+------+--------+------+-------+--------+---------------------+\n",
            "|   147|       2|     5|     64| 1299.95|                    1|\n",
            "|   124|       2|     5|    329| 6752.31|                    1|\n",
            "|   175|       1|     5|    328| 2110.43|                    1|\n",
            "|   171|       1|     5|    245| 6568.92|                    1|\n",
            "|   148|       2|     5|     65| 3670.49|                    1|\n",
            "|     5|       2|     5|    112| 1855.55|                    1|\n",
            "|   128|       1|     5|    341| 5130.87|                    1|\n",
            "|    82|       2|     5|     43| 1321.26|                    1|\n",
            "|    28|       1|     5|    253| 1328.35|                    1|\n",
            "|    46|       1|     5|    390| 8233.47|                    1|\n",
            "|    91|       2|     5|    233| 9109.56|                    1|\n",
            "|   176|       2|     5|    241| 1671.24|                    1|\n",
            "|   172|       1|     5|    351|11848.57|                    1|\n",
            "|   155|       1|     5|    121| 1668.81|                    1|\n",
            "|    19|       2|     5|    223| 1481.88|                    1|\n",
            "|    94|       1|     5|    394| 2087.58|                    1|\n",
            "|    26|       2|     5|    350| 7635.38|                    1|\n",
            "|    55|       2|     5|    313| 2679.61|                    1|\n",
            "|    29|       1|     5|     62| 3440.37|                    1|\n",
            "|   181|       1|     5|    249| 9235.62|                    1|\n",
            "+------+--------+------+-------+--------+---------------------+\n",
            "only showing top 20 rows\n",
            "\n"
          ]
        }
      ]
    },
    {
      "cell_type": "markdown",
      "source": [
        "## 4.2 Atualização dos Tipos de Dados \n",
        "\n",
        "Os dados importados encontram-se no formato string. Torna-se necessário mudar o formato desses dados. "
      ],
      "metadata": {
        "id": "3ZuPStfOPOxU"
      }
    },
    {
      "cell_type": "markdown",
      "source": [
        "### 4.2.1 Atualizando os dados que são do tipo inteiro"
      ],
      "metadata": {
        "id": "rE2G2S81_HoC"
      }
    },
    {
      "cell_type": "markdown",
      "source": [
        "Primeiramente, são identificados quais colunas de quais DataFrames em Spark devem ser do tipo inteiro. Na sequência, ocorre a atualização dos dados dessas colunas para o tipo inteiro."
      ],
      "metadata": {
        "id": "5lXNXpo9PZpj"
      }
    },
    {
      "cell_type": "code",
      "source": [
        "# identificando quais colunas de quais DataFrames devem ser do tipo de dado inteiro\n",
        "colunas_cargo = [\"cargoPK\"]\n",
        "colunas_data = [\"dataPK\", \"dataDia\", \"dataMes\", \"dataBimestre\", \"dataTrimestre\", \"dataSemestre\", \"dataAno\"]\n",
        "colunas_equipe = [\"equipePK\"]\n",
        "colunas_funcionario = [\"funcPK\", \"funcDiaNascimento\", \"funcMesNascimento\", \"funcAnoNascimento\"]\n",
        "colunas_pagamento = [\"funcPK\", \"equipePK\", \"dataPK\", \"cargoPK\", \"quantidadeLancamentos\"]"
      ],
      "metadata": {
        "id": "PJIUTpLsPgEU"
      },
      "execution_count": null,
      "outputs": []
    },
    {
      "cell_type": "code",
      "source": [
        "# importando o tipo de dado desejado\n",
        "from pyspark.sql.types import IntegerType\n",
        "\n",
        "# atualizando o tipo de dado das colunas especificadas \n",
        "# substituindo as colunas já existentes \n",
        "\n",
        "for coluna in colunas_cargo:\n",
        "  cargo = cargo.withColumn(coluna, cargo[coluna].cast(IntegerType()))\n",
        "\n",
        "for coluna in colunas_data:\n",
        "  data = data.withColumn(coluna, data[coluna].cast(IntegerType()))\n",
        "\n",
        "for coluna in colunas_equipe:\n",
        "  equipe = equipe.withColumn(coluna, equipe[coluna].cast(IntegerType()))\n",
        "\n",
        "for coluna in colunas_funcionario:\n",
        "  funcionario = funcionario.withColumn(coluna, funcionario[coluna].cast(IntegerType()))\n",
        "\n",
        "for coluna in colunas_pagamento:\n",
        "  pagamento = pagamento.withColumn(coluna, pagamento[coluna].cast(IntegerType()))"
      ],
      "metadata": {
        "id": "_ZBuu_mpPnwq"
      },
      "execution_count": null,
      "outputs": []
    },
    {
      "cell_type": "markdown",
      "source": [
        "### 4.2.2 Atualizando os dados que são do tipo ponto flutuante"
      ],
      "metadata": {
        "id": "5ErwxLQL_Pjp"
      }
    },
    {
      "cell_type": "markdown",
      "source": [
        "Primeiramente, são identificados quais colunas de quais DataFrames em Spark devem ser do tipo ponto flutuante. Na sequência, ocorre a atualização dos dados dessas colunas para o tipo ponto flutuante."
      ],
      "metadata": {
        "id": "lNLmyIkmPtTi"
      }
    },
    {
      "cell_type": "code",
      "source": [
        "# identificando quais colunas de quais DataFrames devem ser do tipo de dado número de ponto flutuante\n",
        "colunas_pagamento = [\"salario\"]"
      ],
      "metadata": {
        "id": "nQJWl5e5Pxa3"
      },
      "execution_count": null,
      "outputs": []
    },
    {
      "cell_type": "code",
      "source": [
        "# importando o tipo de dado desejado\n",
        "from pyspark.sql.types import FloatType\n",
        "\n",
        "\n",
        "# atualizando o tipo de dado das colunas especificadas \n",
        "# substituindo as colunas já existentes \n",
        "\n",
        "for coluna in colunas_pagamento:\n",
        "  pagamento = pagamento.withColumn(coluna, pagamento[coluna].cast(FloatType()))"
      ],
      "metadata": {
        "id": "YWkSAKGeP0Xn"
      },
      "execution_count": null,
      "outputs": []
    },
    {
      "cell_type": "markdown",
      "source": [
        "## 4.3 Criação de Visões Temporárias\n",
        "\n",
        "Para que seja possível executar consultas SQL usando Spark SQL, é necessário criar visões temporárias. Uma visão temporária é uma forma na qual um DataFrame em Spark pode ser consultado como se fosse uma tabela.\n",
        "\n",
        "Para tanto, deve ser utilizado o método  `createOrReplaceTempView` e deve ser passado como parâmetro uma *string* que é o nome da tabela que é criada a partir do DataFrame em Spark. "
      ],
      "metadata": {
        "id": "EzqUFTQ4-8rw"
      }
    },
    {
      "cell_type": "markdown",
      "source": [
        "### 4.3.1 Criando visões temporárias para as tabelas de dimensão"
      ],
      "metadata": {
        "id": "gqqUGMK_Ho9L"
      }
    },
    {
      "cell_type": "code",
      "metadata": {
        "id": "nB4dFUqHoiaW"
      },
      "source": [
        "# criando as visões temporárias para as tabelas de dimensão\n",
        "cargo.createOrReplaceTempView(\"cargo\")\n",
        "data.createOrReplaceTempView(\"data\")\n",
        "equipe.createOrReplaceTempView(\"equipe\")\n",
        "funcionario.createOrReplaceTempView(\"funcionario\")"
      ],
      "execution_count": null,
      "outputs": []
    },
    {
      "cell_type": "markdown",
      "source": [
        "### 4.3.2 Criando visões temporárias para a tabela de fatos"
      ],
      "metadata": {
        "id": "xq9XwdDOHuQQ"
      }
    },
    {
      "cell_type": "code",
      "metadata": {
        "id": "7PQgcY3honGm"
      },
      "source": [
        "# criando as visões temporárias para as tabelas de fatos\n",
        "pagamento.createOrReplaceTempView(\"pagamento\")"
      ],
      "execution_count": null,
      "outputs": []
    },
    {
      "cell_type": "markdown",
      "metadata": {
        "id": "Ss0pmgplPAL3"
      },
      "source": [
        "# 5 Definição de Operações OLAP Típicas"
      ]
    },
    {
      "cell_type": "markdown",
      "metadata": {
        "id": "MABYjSYf7L4g"
      },
      "source": [
        "## 5.1 Definindo a operação *slice and dice*\n",
        "\n",
        "**Definição**: Restringe os dados sendo analisados a um subconjunto desses dados.\n",
        "\n",
        "- Slice: corte para um valor fixo, diminuindo a dimensionalidade do cubo.\n",
        "- Dice: seleção de faixas de valores.\n"
      ]
    },
    {
      "cell_type": "markdown",
      "source": [
        "## 5.2 Definindo as operações *drill-down* e *roll-up*\n",
        "\n",
        "**Definição**: Analisam os dados considerando níveis progressivos de agregação.\n",
        "\n",
        "- Drill-down: níveis de agregação progressivamente mais detalhados, ou de menor granularidade.\n",
        "- Roll-up: níveis de agregação progressivamente menos detalhados, ou de maior granularidade."
      ],
      "metadata": {
        "id": "V4ynUHyOapUR"
      }
    },
    {
      "cell_type": "markdown",
      "source": [
        "## 5.3 Definindo a operação *pivot*\n",
        "\n",
        "**Definição:** Reorienta a visão multidimensional dos dados, oferecendo diferentes perspectivas dos mesmos dados."
      ],
      "metadata": {
        "id": "QqZLeK8BaxY3"
      }
    },
    {
      "cell_type": "markdown",
      "source": [
        "# 6 Execução de Consultas Analíticas com Foco na Tomada de Decisão Estratégica\n",
        "\n",
        "As consultas analíticas requisitadas por usuários de sistemas de suporte à decisão usualmente requerem que várias operações OLAP sejam realizadas simultaneamente. Adicionalmente, a resposta obtida em uma consulta pode ser utilizada para novas investigações em uma consulta subsequente.\n",
        "\n",
        "Além disso, é importante saber durante a especificação de uma consulta analítica que:\n",
        "\n",
        "- Resultados mais semânticos deve ser exibidos.\n",
        "\n",
        "- Os dados numéricos de ponto flutuante devem ser arredondados para facilitar a visualização.\n",
        "\n",
        "- As linhas dos relatórios devem ser exibidas de forma ordenada.\n",
        "\n",
        "- Pode haver a necessidade de se calcular e exibir valores derivados. \n",
        "\n",
        "- As colunas dos relatórios devem possuir nomes semânticos para facilitar o entendimento."
      ],
      "metadata": {
        "id": "79l6RCFxbWee"
      }
    },
    {
      "cell_type": "markdown",
      "source": [
        "## 6.1 Consulta 1\n",
        "\n",
        "Qual o total de despesas em salários nos anos de 2017 a 2021 em cada região na qual a equipe está localizada, considerando o cargo de nível junior?  "
      ],
      "metadata": {
        "id": "zjbNfMryuM-g"
      }
    },
    {
      "cell_type": "code",
      "source": [
        "query = \"\"\"\n",
        "SELECT dataAno AS ANO,\n",
        "       filialRegiaoNome AS REGIAO,\n",
        "       ROUND(SUM(salario), 2) AS `TOTAL DE DESPESA`\n",
        "FROM pagamento JOIN data ON data.dataPK = pagamento.dataPK\n",
        "               JOIN equipe ON equipe.equipePK = pagamento.equipePK\n",
        "               JOIN cargo ON cargo.cargoPK = pagamento.cargoPK\n",
        "WHERE dataAno BETWEEN 2017 AND 2021\n",
        "      AND cargoNivel = \"JUNIOR\"\n",
        "GROUP BY dataAno, filialRegiaoNome\n",
        "ORDER BY `TOTAL DE DESPESA` DESC, dataAno DESC, filialRegiaoNome\n",
        "\"\"\"\n",
        "\n",
        "spark.sql(query).show()"
      ],
      "metadata": {
        "colab": {
          "base_uri": "https://localhost:8080/"
        },
        "id": "XpmFHnXOYV0O",
        "outputId": "9acd4e66-c0f6-485f-f4d9-fadc2cb37b73"
      },
      "execution_count": null,
      "outputs": [
        {
          "output_type": "stream",
          "name": "stdout",
          "text": [
            "+----+------------+----------------+\n",
            "| ANO|      REGIAO|TOTAL DE DESPESA|\n",
            "+----+------------+----------------+\n",
            "|2021|     SUDESTE|      1048173.96|\n",
            "|2020|     SUDESTE|      1048173.96|\n",
            "|2019|     SUDESTE|       880174.08|\n",
            "|2018|     SUDESTE|       730128.84|\n",
            "|2017|     SUDESTE|       407880.84|\n",
            "|2021|CENTRO-OESTE|       280894.44|\n",
            "|2020|CENTRO-OESTE|       280894.44|\n",
            "|2019|CENTRO-OESTE|       280894.44|\n",
            "|2021|    NORDESTE|       134026.92|\n",
            "|2020|    NORDESTE|       134026.92|\n",
            "|2018|CENTRO-OESTE|       128740.32|\n",
            "+----+------------+----------------+\n",
            "\n"
          ]
        }
      ]
    },
    {
      "cell_type": "code",
      "source": [
        "# transformando o resultado da consulta em Pandas\n",
        "gastosRegiaoJunior = spark.sql(query).toPandas()\n",
        "\n",
        "# exibindo a visualização gráfica\n",
        "# informando quais são os índices do DataFrame em Pandas \n",
        "gastosRegiaoJunior.set_index(['ANO', 'REGIAO']).plot(kind = 'barh', stacked=True)"
      ],
      "metadata": {
        "colab": {
          "base_uri": "https://localhost:8080/",
          "height": 295
        },
        "id": "P09WHiEQhlO2",
        "outputId": "77d089ab-f1cb-42b5-fd03-9060d4727a36"
      },
      "execution_count": null,
      "outputs": [
        {
          "output_type": "execute_result",
          "data": {
            "text/plain": [
              "<matplotlib.axes._subplots.AxesSubplot at 0x7f30b212a490>"
            ]
          },
          "metadata": {},
          "execution_count": 22
        },
        {
          "output_type": "display_data",
          "data": {
            "text/plain": [
              "<Figure size 432x288 with 1 Axes>"
            ],
            "image/png": "[encoded data removed]"
          },
          "metadata": {
            "needs_background": "light"
          }
        }
      ]
    },
    {
      "cell_type": "code",
      "source": [
        "# visualizando os dados \"quebrados\" por região\n",
        "legend = ['CENTRO-OESTE', 'NORDESTE', 'SUDESTE']\n",
        "ax = gastosRegiaoJunior.set_index(['ANO', 'REGIAO']).unstack().plot(kind = 'bar')\n",
        "ax.legend(legend); # atualiza os labels"
      ],
      "metadata": {
        "colab": {
          "base_uri": "https://localhost:8080/",
          "height": 306
        },
        "id": "eWNpkdGh9BuB",
        "outputId": "a21fe2bb-0f5a-485d-e604-c1b7ccfc0f75"
      },
      "execution_count": null,
      "outputs": [
        {
          "output_type": "display_data",
          "data": {
            "text/plain": [
              "<Figure size 432x288 with 1 Axes>"
            ],
            "image/png": "[encoded data removed]"
          },
          "metadata": {
            "needs_background": "light"
          }
        }
      ]
    },
    {
      "cell_type": "code",
      "source": [
        "# visualizando os dados \"quebrados\" e empilhados por região\n",
        "legend = ['CENTRO-OESTE', 'NORDESTE', 'SUDESTE']\n",
        "ax = gastosRegiaoJunior.set_index(['ANO', 'REGIAO']).unstack().plot(kind = 'bar', stacked=True)\n",
        "ax.legend(legend); # atualiza os labels"
      ],
      "metadata": {
        "colab": {
          "base_uri": "https://localhost:8080/",
          "height": 306
        },
        "id": "mN7Aj7IQ8TM5",
        "outputId": "fac211c2-fe5e-4752-fd44-cc8c95c18219"
      },
      "execution_count": null,
      "outputs": [
        {
          "output_type": "display_data",
          "data": {
            "text/plain": [
              "<Figure size 432x288 with 1 Axes>"
            ],
            "image/png": "[encoded data removed]"
          },
          "metadata": {
            "needs_background": "light"
          }
        }
      ]
    },
    {
      "cell_type": "markdown",
      "source": [
        "## 6.2 Consulta 2\n",
        "\n",
        "Por meio das respostas da Consulta 1, é possível identificar qual ano e qual região correspondem ao maior gasto em salários. Utilizando essa resposta, mostre qual o total de despesas em cada estado desta região.  \n",
        "\n",
        "Qual o total de despesas em salários no ano de 2021 em cada estado da região Sudeste, considerando o cargo de nível junior?  "
      ],
      "metadata": {
        "id": "Vo6EceYtvDRh"
      }
    },
    {
      "cell_type": "code",
      "source": [
        "query = \"\"\"\n",
        "SELECT filialEstadoNome AS ESTADO,\n",
        "       ROUND(SUM(salario), 0) AS `TOTAL DE DESPESA`\n",
        "FROM pagamento JOIN data ON data.dataPK = pagamento.dataPK\n",
        "               JOIN equipe ON equipe.equipePK = pagamento.equipePK\n",
        "               JOIN cargo ON cargo.cargoPK = pagamento.cargoPK\n",
        "WHERE dataAno = 2021\n",
        "      AND cargoNivel = \"JUNIOR\"\n",
        "      AND filialRegiaoNome = \"SUDESTE\"\n",
        "GROUP BY filialEstadoNome\n",
        "ORDER BY filialEstadoNome ASC\n",
        "\"\"\"\n",
        "\n",
        "spark.sql(query).show()"
      ],
      "metadata": {
        "colab": {
          "base_uri": "https://localhost:8080/"
        },
        "id": "iY8i9kNGZvg9",
        "outputId": "65d6a6c3-fb0e-40e6-c29b-05947663f5c1"
      },
      "execution_count": null,
      "outputs": [
        {
          "output_type": "stream",
          "name": "stdout",
          "text": [
            "+--------------+----------------+\n",
            "|        ESTADO|TOTAL DE DESPESA|\n",
            "+--------------+----------------+\n",
            "|RIO DE JANEIRO|        384111.0|\n",
            "|     SAO PAULO|        664063.0|\n",
            "+--------------+----------------+\n",
            "\n"
          ]
        }
      ]
    },
    {
      "cell_type": "code",
      "source": [
        "# transformando o resultado da consulta em Pandas\n",
        "gastosEstadoSP = spark.sql(query).toPandas()\n",
        "\n",
        "# exibindo a visualização gráfica\n",
        "# informando quais são os índices do DataFrame em Pandas \n",
        "ax = gastosEstadoSP.set_index(['ESTADO']).plot(kind = 'bar')"
      ],
      "metadata": {
        "colab": {
          "base_uri": "https://localhost:8080/",
          "height": 348
        },
        "id": "cHNtpgAbrUXA",
        "outputId": "45462693-a6ea-4048-9341-6dc3d051b658"
      },
      "execution_count": null,
      "outputs": [
        {
          "output_type": "display_data",
          "data": {
            "text/plain": [
              "<Figure size 432x288 with 1 Axes>"
            ],
            "image/png": "[encoded data removed]"
          },
          "metadata": {
            "needs_background": "light"
          }
        }
      ]
    },
    {
      "cell_type": "markdown",
      "source": [
        "## 6.3 Consulta 3\n",
        "\n",
        "Por meio das respostas da Consulta 2, é possível identificar qual estado possui maior gasto em salários. Utilizando essa resposta, mostre qual o total de despesas por sexo para esse estado.  \n",
        "\n",
        "Qual o total de despesas em salários por sexo para o ano de 2021, o estado de São Paulo da região Sudeste e o cargo de nível junior?"
      ],
      "metadata": {
        "id": "LenmRNEVvymx"
      }
    },
    {
      "cell_type": "code",
      "source": [
        "# FORMAT_NUMBER() retorna uma STRING formatada para facilitar a leitura - não dá para usar nas visualizações .plot()\n",
        "# ROUND() arredonda o valor e retorna um FLOAT - podemos realizar operações matemáticas sobre este valor\n",
        "query = \"\"\"\n",
        "SELECT funcSexo AS SEXO,\n",
        "       FORMAT_NUMBER(SUM(salario), 2) AS `TOTAL DE DESPESA`\n",
        "FROM pagamento JOIN data ON data.dataPK = pagamento.dataPK\n",
        "               JOIN equipe ON equipe.equipePK = pagamento.equipePK\n",
        "               JOIN cargo ON cargo.cargoPK = pagamento.cargoPK\n",
        "               JOIN funcionario ON funcionario.funcPK = pagamento.funcPK\n",
        "WHERE dataAno = 2021\n",
        "      AND filialRegiaoNome = \"SUDESTE\"\n",
        "      AND filialEstadoNome = \"SAO PAULO\"\n",
        "      AND cargoNivel = \"JUNIOR\"\n",
        "GROUP BY funcSexo\n",
        "ORDER BY funcSexo ASC\n",
        "\"\"\"\n",
        "\n",
        "spark.sql(query).show()"
      ],
      "metadata": {
        "colab": {
          "base_uri": "https://localhost:8080/"
        },
        "id": "dfxM6HGJa9lB",
        "outputId": "06e49e5d-26c1-44a3-d931-1594b77d8ef3"
      },
      "execution_count": null,
      "outputs": [
        {
          "output_type": "stream",
          "name": "stdout",
          "text": [
            "+----+----------------+\n",
            "|SEXO|TOTAL DE DESPESA|\n",
            "+----+----------------+\n",
            "|   F|      141,779.64|\n",
            "|   M|      522,283.56|\n",
            "+----+----------------+\n",
            "\n"
          ]
        }
      ]
    },
    {
      "cell_type": "markdown",
      "source": [
        "## 6.4 Consulta 4\n",
        "\n",
        "Qual a diferença entre os totais de despesas, considerando a Consulta 3? \n",
        "\n",
        "Quanto se gasta a mais para pagar os salários dos funcionários de sexo masculino no ano de 2021, estado de São Paulo, região Sudeste e cargo de nível junior?  "
      ],
      "metadata": {
        "id": "zkljKekEwbdH"
      }
    },
    {
      "cell_type": "code",
      "source": [
        "query = \"\"\"\n",
        "SELECT FORMAT_NUMBER(salarioF, 2) AS `DESPESAS COM FUNCIONARIAS`,\n",
        "       FORMAT_NUMBER(salarioM, 2) AS `DESPESAS COM FUNCIONARIOS`,\n",
        "       FORMAT_NUMBER(salarioM-salarioF, 2) AS `DIFERENCA ENTRE AS DESPESAS`\n",
        "FROM ( SELECT SUM(salario) AS `Total de Despesa`\n",
        "       FROM pagamento JOIN data ON data.dataPK = pagamento.dataPK \n",
        "               JOIN equipe ON equipe.equipePK = pagamento.equipePK \n",
        "               JOIN cargo ON cargo.cargoPK = pagamento.cargoPK\n",
        "               JOIN funcionario ON funcionario.funcPK = pagamento.funcPK\n",
        "       WHERE dataAno = 2021\n",
        "         AND filialRegiaoNome = \"SUDESTE\"\n",
        "         AND filialEstadoNome = \"SAO PAULO\"\n",
        "         AND cargoNivel = \"JUNIOR\"\n",
        "         AND funcSexo = \"F\"  \n",
        "     ) AS pagF(salarioF), \n",
        "     ( SELECT SUM(salario) AS `Total de Despesa`\n",
        "       FROM pagamento JOIN data ON data.dataPK = pagamento.dataPK \n",
        "               JOIN equipe ON equipe.equipePK = pagamento.equipePK \n",
        "               JOIN cargo ON cargo.cargoPK = pagamento.cargoPK\n",
        "               JOIN funcionario ON funcionario.funcPK = pagamento.funcPK\n",
        "       WHERE dataAno = 2021\n",
        "         AND filialRegiaoNome = \"SUDESTE\"\n",
        "         AND filialEstadoNome = \"SAO PAULO\"\n",
        "         AND cargoNivel = \"JUNIOR\"\n",
        "         AND funcSexo = \"M\"\n",
        "      ) AS pagM(salarioM) \n",
        "\"\"\"\n",
        "\n",
        "spark.sql(query).show()"
      ],
      "metadata": {
        "colab": {
          "base_uri": "https://localhost:8080/"
        },
        "id": "QYLzhpIHcRu0",
        "outputId": "7b360f3a-0fa8-4095-9aee-4caa4457b2d4"
      },
      "execution_count": null,
      "outputs": [
        {
          "output_type": "stream",
          "name": "stdout",
          "text": [
            "+-------------------------+-------------------------+---------------------------+\n",
            "|DESPESAS COM FUNCIONARIAS|DESPESAS COM FUNCIONARIOS|DIFERENCA ENTRE AS DESPESAS|\n",
            "+-------------------------+-------------------------+---------------------------+\n",
            "|               141,779.64|               522,283.56|                 380,503.92|\n",
            "+-------------------------+-------------------------+---------------------------+\n",
            "\n"
          ]
        }
      ]
    },
    {
      "cell_type": "code",
      "source": [
        "query = \"\"\"\n",
        "SELECT cargoNivelF AS CARGO,\n",
        "       FORMAT_NUMBER(salarioF, 2) AS `DESPESAS COM FUNCIONARIAS`,\n",
        "       FORMAT_NUMBER(salarioM, 2) AS `DESPESAS COM FUNCIONARIOS`,\n",
        "       FORMAT_NUMBER(salarioM-salarioF, 2) AS `DIFERENCA ENTRE AS DESPESAS`\n",
        "FROM ( SELECT cargoNivel, SUM(salario) AS `Total de Despesa`\n",
        "       FROM pagamento JOIN data ON data.dataPK = pagamento.dataPK \n",
        "               JOIN equipe ON equipe.equipePK = pagamento.equipePK \n",
        "               JOIN cargo ON cargo.cargoPK = pagamento.cargoPK\n",
        "               JOIN funcionario ON funcionario.funcPK = pagamento.funcPK\n",
        "       WHERE dataAno = 2021\n",
        "         AND filialRegiaoNome = \"SUDESTE\"\n",
        "         AND filialEstadoNome = \"SAO PAULO\"\n",
        "         AND funcSexo = \"F\"  \n",
        "       GROUP BY cargoNivel  \n",
        "     ) AS pagF(cargoNivelF, salarioF), \n",
        "     ( SELECT cargoNivel, SUM(salario) AS `Total de Despesa`\n",
        "       FROM pagamento JOIN data ON data.dataPK = pagamento.dataPK \n",
        "               JOIN equipe ON equipe.equipePK = pagamento.equipePK \n",
        "               JOIN cargo ON cargo.cargoPK = pagamento.cargoPK\n",
        "               JOIN funcionario ON funcionario.funcPK = pagamento.funcPK\n",
        "       WHERE dataAno = 2021\n",
        "         AND filialRegiaoNome = \"SUDESTE\"\n",
        "         AND filialEstadoNome = \"SAO PAULO\"\n",
        "         AND funcSexo = \"M\"\n",
        "       GROUP BY cargoNivel   \n",
        "      ) AS pagM(cargoNivelM, salarioM) \n",
        "WHERE cargoNivelF = cargoNivelM      \n",
        "\"\"\"\n",
        "\n",
        "spark.sql(query).show()"
      ],
      "metadata": {
        "colab": {
          "base_uri": "https://localhost:8080/"
        },
        "id": "-xlUdrYGyxqK",
        "outputId": "d51a1710-c833-4ece-aeb8-d87868ef8f34"
      },
      "execution_count": null,
      "outputs": [
        {
          "output_type": "stream",
          "name": "stdout",
          "text": [
            "+------+-------------------------+-------------------------+---------------------------+\n",
            "| CARGO|DESPESAS COM FUNCIONARIAS|DESPESAS COM FUNCIONARIOS|DIFERENCA ENTRE AS DESPESAS|\n",
            "+------+-------------------------+-------------------------+---------------------------+\n",
            "|JUNIOR|               141,779.64|               522,283.56|                 380,503.92|\n",
            "| PLENO|               654,855.98|             1,436,093.29|                 781,237.31|\n",
            "|SENIOR|             1,185,184.56|             2,497,996.55|               1,312,811.98|\n",
            "+------+-------------------------+-------------------------+---------------------------+\n",
            "\n"
          ]
        }
      ]
    },
    {
      "cell_type": "markdown",
      "metadata": {
        "id": "mTjo_CX1G5jy"
      },
      "source": [
        "# 7 Extensões ROLLUP, CUBE e GROUPING SETS \n",
        "\n",
        "**Definição:** Constroem vários níveis de agregação.\n",
        "\n",
        "- ROLLUP: criação de subtotais para as combinações dos atributos da lista de agrupamento de acordo com a ordem desses atributos. São criados n+1 níveis de agregação, sendo n o número de atributos especificados na lista de agrupamento.\n",
        "\n",
        "- CUBE: criação de subtotais para todas as combinações dos atributos da lista de agrupamento. São criados 2ˆn (2 elevado a n) níveis, sendo n o número de atributos especificados na lista de agrupamento.\n",
        "\n",
        "- GROUPING SETS: criação de subtotais para quaisquer combinações de atributos de agrupamentos. É criada a quantidade de subtotais especificados na lista de níveis de agregação desejados. \n"
      ]
    },
    {
      "cell_type": "markdown",
      "source": [
        "## 7.1 Exemplo de consulta com ROLLUP e GROUPING SETS"
      ],
      "metadata": {
        "id": "2-pWQd54AFKO"
      }
    },
    {
      "cell_type": "markdown",
      "metadata": {
        "id": "5RRlVccmYhV_"
      },
      "source": [
        "\n",
        "Liste as agregações que podem ser geradas a partir do total de despesas em salários por sexo por nível de cargo para o ano de 2021 e o estado de São Paulo da região Sudeste. Crie subtotais considerando a ordem dos atributos na lista de agrupamento."
      ]
    },
    {
      "cell_type": "code",
      "source": [
        "# Lembre-se não conseguimos ordernar as colunas pelo `TOTAL DE DESPESA` se utilizarmos o FORMAT_NUMBER\n",
        "# mas podemos ordernas as colunas pelo SUM(salario), assim ORDER BY SUM(salario) DESC\n",
        "query = \"\"\"\n",
        "SELECT funcSexo,\n",
        "       cargoNivel, \n",
        "       FORMAT_NUMBER(SUM(salario), 2) AS `TOTAL DE DESPESA`\n",
        "FROM pagamento JOIN data ON data.dataPK = pagamento.dataPK \n",
        "               JOIN equipe ON equipe.equipePK = pagamento.equipePK \n",
        "               JOIN cargo ON cargo.cargoPK = pagamento.cargoPK\n",
        "               JOIN funcionario ON funcionario.funcPK = pagamento.funcPK\n",
        "WHERE dataAno = 2021\n",
        "      AND filialRegiaoNome = \"SUDESTE\"\n",
        "      AND filialEstadoNome = \"SAO PAULO\"\n",
        "GROUP BY ROLLUP(funcSexo, cargoNivel)\n",
        "ORDER BY cargoNivel DESC, funcSexo DESC\n",
        "\"\"\"\n",
        "\n",
        "spark.sql(query).show()"
      ],
      "metadata": {
        "colab": {
          "base_uri": "https://localhost:8080/"
        },
        "id": "F1_F6UE09KzD",
        "outputId": "2b925b30-ce09-4fae-8b55-f9b06a74e9d4"
      },
      "execution_count": null,
      "outputs": [
        {
          "output_type": "stream",
          "name": "stdout",
          "text": [
            "+--------+----------+----------------+\n",
            "|funcSexo|cargoNivel|TOTAL DE DESPESA|\n",
            "+--------+----------+----------------+\n",
            "|       M|    SENIOR|    2,497,996.55|\n",
            "|       F|    SENIOR|    1,185,184.56|\n",
            "|       M|     PLENO|    1,436,093.29|\n",
            "|       F|     PLENO|      654,855.98|\n",
            "|       M|    JUNIOR|      522,283.56|\n",
            "|       F|    JUNIOR|      141,779.64|\n",
            "|       M|      null|    4,456,373.39|\n",
            "|       F|      null|    1,981,820.18|\n",
            "|    null|      null|    6,438,193.57|\n",
            "+--------+----------+----------------+\n",
            "\n"
          ]
        }
      ]
    },
    {
      "cell_type": "code",
      "metadata": {
        "id": "Tq9x3HMyPwHe",
        "colab": {
          "base_uri": "https://localhost:8080/"
        },
        "outputId": "01e1bb8d-e5e5-413c-fa7e-7c25475dce33"
      },
      "source": [
        "query = \"\"\"\n",
        "SELECT funcSexo,\n",
        "       cargoNivel,\n",
        "       FORMAT_NUMBER(SUM(salario), 2) AS `TOTAL DE DESPESA`\n",
        "FROM pagamento JOIN data ON data.dataPK = pagamento.dataPK \n",
        "               JOIN equipe ON equipe.equipePK = pagamento.equipePK \n",
        "               JOIN cargo ON cargo.cargoPK = pagamento.cargoPK\n",
        "               JOIN funcionario ON funcionario.funcPK = pagamento.funcPK\n",
        "WHERE dataAno = 2021\n",
        "      AND filialRegiaoNome = \"SUDESTE\"\n",
        "      AND filialEstadoNome = \"SAO PAULO\"\n",
        "GROUP BY GROUPING SETS((funcSexo, cargoNivel), (funcSexo), ())\n",
        "ORDER BY cargoNivel DESC, funcSexo DESC\n",
        "\"\"\"\n",
        "\n",
        "spark.sql(query).show()"
      ],
      "execution_count": null,
      "outputs": [
        {
          "output_type": "stream",
          "name": "stdout",
          "text": [
            "+--------+----------+----------------+\n",
            "|funcSexo|cargoNivel|TOTAL DE DESPESA|\n",
            "+--------+----------+----------------+\n",
            "|       M|    SENIOR|    2,497,996.55|\n",
            "|       F|    SENIOR|    1,185,184.56|\n",
            "|       M|     PLENO|    1,436,093.29|\n",
            "|       F|     PLENO|      654,855.98|\n",
            "|       M|    JUNIOR|      522,283.56|\n",
            "|       F|    JUNIOR|      141,779.64|\n",
            "|       M|      null|    4,456,373.39|\n",
            "|       F|      null|    1,981,820.18|\n",
            "|    null|      null|    6,438,193.57|\n",
            "+--------+----------+----------------+\n",
            "\n"
          ]
        }
      ]
    },
    {
      "cell_type": "markdown",
      "metadata": {
        "id": "IjjDB_mtPkzw"
      },
      "source": [
        "## 7.2 Exemplo de consulta com CUBE e GROUPING SETS"
      ]
    },
    {
      "cell_type": "markdown",
      "source": [
        "Liste todas as agregações que podem ser geradas a partir do total de despesas em salários por sexo por nível de cargo para o ano de 2021 e o estado de São Paulo da região Sudeste."
      ],
      "metadata": {
        "id": "tcBEckeWBtRA"
      }
    },
    {
      "cell_type": "code",
      "metadata": {
        "id": "v_5lF9EVFZr6",
        "colab": {
          "base_uri": "https://localhost:8080/"
        },
        "outputId": "885677e9-b94d-42b6-e66e-4a5991c63e02"
      },
      "source": [
        "query = \"\"\"\n",
        "SELECT funcSexo,\n",
        "       cargoNivel,\n",
        "       FORMAT_NUMBER(SUM(salario), 2) AS `TOTAL DE DESPESA`\n",
        "FROM pagamento JOIN data ON data.dataPK = pagamento.dataPK \n",
        "               JOIN equipe ON equipe.equipePK = pagamento.equipePK \n",
        "               JOIN cargo ON cargo.cargoPK = pagamento.cargoPK\n",
        "               JOIN funcionario ON funcionario.funcPK = pagamento.funcPK\n",
        "WHERE dataAno = 2021\n",
        "      AND filialRegiaoNome = \"SUDESTE\"\n",
        "      AND filialEstadoNome = \"SAO PAULO\"\n",
        "GROUP BY CUBE(funcSexo, cargoNivel)\n",
        "ORDER BY cargoNivel DESC, funcSexo DESC\n",
        "\"\"\"\n",
        "\n",
        "spark.sql(query).show()"
      ],
      "execution_count": null,
      "outputs": [
        {
          "output_type": "stream",
          "name": "stdout",
          "text": [
            "+--------+----------+----------------+\n",
            "|funcSexo|cargoNivel|TOTAL DE DESPESA|\n",
            "+--------+----------+----------------+\n",
            "|       M|    SENIOR|    2,497,996.55|\n",
            "|       F|    SENIOR|    1,185,184.56|\n",
            "|    null|    SENIOR|    3,683,181.11|\n",
            "|       M|     PLENO|    1,436,093.29|\n",
            "|       F|     PLENO|      654,855.98|\n",
            "|    null|     PLENO|    2,090,949.26|\n",
            "|       M|    JUNIOR|      522,283.56|\n",
            "|       F|    JUNIOR|      141,779.64|\n",
            "|    null|    JUNIOR|      664,063.20|\n",
            "|       M|      null|    4,456,373.39|\n",
            "|       F|      null|    1,981,820.18|\n",
            "|    null|      null|    6,438,193.57|\n",
            "+--------+----------+----------------+\n",
            "\n"
          ]
        }
      ]
    },
    {
      "cell_type": "code",
      "metadata": {
        "id": "W8oaCRpEb29W",
        "colab": {
          "base_uri": "https://localhost:8080/"
        },
        "outputId": "730cc1e1-bb59-4974-b824-4758ffcc4950"
      },
      "source": [
        "query = \"\"\"\n",
        "SELECT funcSexo,\n",
        "       cargoNivel,\n",
        "       FORMAT_NUMBER(SUM(salario), 2) AS `TOTAL DE DESPESA`\n",
        "FROM pagamento JOIN data ON data.dataPK = pagamento.dataPK \n",
        "               JOIN equipe ON equipe.equipePK = pagamento.equipePK \n",
        "               JOIN cargo ON cargo.cargoPK = pagamento.cargoPK\n",
        "               JOIN funcionario ON funcionario.funcPK = pagamento.funcPK\n",
        "WHERE dataAno = 2021\n",
        "      AND filialRegiaoNome = \"SUDESTE\"\n",
        "      AND filialEstadoNome = \"SAO PAULO\"\n",
        "GROUP BY GROUPING SETS((funcSexo, cargoNivel), (funcSexo), (cargoNivel), ())\n",
        "ORDER BY cargoNivel DESC, funcSexo DESC\n",
        "\"\"\"\n",
        "\n",
        "spark.sql(query).show()"
      ],
      "execution_count": null,
      "outputs": [
        {
          "output_type": "stream",
          "name": "stdout",
          "text": [
            "+--------+----------+----------------+\n",
            "|funcSexo|cargoNivel|TOTAL DE DESPESA|\n",
            "+--------+----------+----------------+\n",
            "|       M|    SENIOR|    2,497,996.55|\n",
            "|       F|    SENIOR|    1,185,184.56|\n",
            "|    null|    SENIOR|    3,683,181.11|\n",
            "|       M|     PLENO|    1,436,093.29|\n",
            "|       F|     PLENO|      654,855.98|\n",
            "|    null|     PLENO|    2,090,949.26|\n",
            "|       M|    JUNIOR|      522,283.56|\n",
            "|       F|    JUNIOR|      141,779.64|\n",
            "|    null|    JUNIOR|      664,063.20|\n",
            "|       M|      null|    4,456,373.39|\n",
            "|       F|      null|    1,981,820.18|\n",
            "|    null|      null|    6,438,193.57|\n",
            "+--------+----------+----------------+\n",
            "\n"
          ]
        }
      ]
    },
    {
      "cell_type": "code",
      "source": [],
      "metadata": {
        "id": "V1BQ57H1IT6a"
      },
      "execution_count": null,
      "outputs": []
    }
  ]
}